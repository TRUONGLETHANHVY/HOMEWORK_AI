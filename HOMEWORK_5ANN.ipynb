{
  "nbformat": 4,
  "nbformat_minor": 0,
  "metadata": {
    "colab": {
      "provenance": [],
      "mount_file_id": "1ihbkrBMHE_VfHqR386dFnLG-JFqMFE0S",
      "authorship_tag": "ABX9TyNmnf3uH/zsJGSZjnEz0SEC",
      "include_colab_link": true
    },
    "kernelspec": {
      "name": "python3",
      "display_name": "Python 3"
    },
    "language_info": {
      "name": "python"
    }
  },
  "cells": [
    {
      "cell_type": "markdown",
      "metadata": {
        "id": "view-in-github",
        "colab_type": "text"
      },
      "source": [
        "<a href=\"https://colab.research.google.com/github/TRUONGLETHANHVY/HOMEWORK_AI/blob/main/HOMEWORK_5ANN.ipynb\" target=\"_parent\"><img src=\"https://colab.research.google.com/assets/colab-badge.svg\" alt=\"Open In Colab\"/></a>"
      ]
    },
    {
      "cell_type": "markdown",
      "source": [
        "# **BÀI BÔNG HOA**"
      ],
      "metadata": {
        "id": "gN3OxrenkkM5"
      }
    },
    {
      "cell_type": "code",
      "execution_count": null,
      "metadata": {
        "colab": {
          "base_uri": "https://localhost:8080/"
        },
        "id": "rOFQsbf2EZ6D",
        "outputId": "5dcb4f0f-6595-4062-95a8-93132dd9d507"
      },
      "outputs": [
        {
          "output_type": "stream",
          "name": "stdout",
          "text": [
            "   Index                       Name\n",
            "0      0              pink primrose\n",
            "1      1  hard-leaved pocket orchid\n",
            "2      2           canterbury bells\n",
            "3      3                  sweet pea\n",
            "4      4           english marigold\n"
          ]
        },
        {
          "output_type": "stream",
          "name": "stderr",
          "text": [
            "/usr/local/lib/python3.11/dist-packages/keras/src/layers/core/dense.py:87: UserWarning: Do not pass an `input_shape`/`input_dim` argument to a layer. When using Sequential models, prefer using an `Input(shape)` object as the first layer in the model instead.\n",
            "  super().__init__(activity_regularizer=activity_regularizer, **kwargs)\n"
          ]
        },
        {
          "output_type": "stream",
          "name": "stdout",
          "text": [
            "Epoch 1/50\n",
            "\u001b[1m391/391\u001b[0m \u001b[32m━━━━━━━━━━━━━━━━━━━━\u001b[0m\u001b[37m\u001b[0m \u001b[1m35s\u001b[0m 84ms/step - accuracy: 0.1575 - loss: 86.2363 - val_accuracy: 0.2245 - val_loss: 2.5987\n",
            "Epoch 2/50\n",
            "\u001b[1m391/391\u001b[0m \u001b[32m━━━━━━━━━━━━━━━━━━━━\u001b[0m\u001b[37m\u001b[0m \u001b[1m41s\u001b[0m 84ms/step - accuracy: 0.2978 - loss: 2.1701 - val_accuracy: 0.3617 - val_loss: 1.8354\n",
            "Epoch 3/50\n",
            "\u001b[1m391/391\u001b[0m \u001b[32m━━━━━━━━━━━━━━━━━━━━\u001b[0m\u001b[37m\u001b[0m \u001b[1m39s\u001b[0m 81ms/step - accuracy: 0.3606 - loss: 1.8424 - val_accuracy: 0.3665 - val_loss: 1.8407\n",
            "Epoch 4/50\n",
            "\u001b[1m391/391\u001b[0m \u001b[32m━━━━━━━━━━━━━━━━━━━━\u001b[0m\u001b[37m\u001b[0m \u001b[1m31s\u001b[0m 80ms/step - accuracy: 0.3812 - loss: 1.7874 - val_accuracy: 0.3761 - val_loss: 1.8327\n",
            "Epoch 5/50\n",
            "\u001b[1m391/391\u001b[0m \u001b[32m━━━━━━━━━━━━━━━━━━━━\u001b[0m\u001b[37m\u001b[0m \u001b[1m30s\u001b[0m 77ms/step - accuracy: 0.4026 - loss: 1.7098 - val_accuracy: 0.3776 - val_loss: 1.7415\n",
            "Epoch 6/50\n",
            "\u001b[1m391/391\u001b[0m \u001b[32m━━━━━━━━━━━━━━━━━━━━\u001b[0m\u001b[37m\u001b[0m \u001b[1m31s\u001b[0m 80ms/step - accuracy: 0.4180 - loss: 1.6648 - val_accuracy: 0.3906 - val_loss: 1.7466\n",
            "Epoch 7/50\n",
            "\u001b[1m391/391\u001b[0m \u001b[32m━━━━━━━━━━━━━━━━━━━━\u001b[0m\u001b[37m\u001b[0m \u001b[1m42s\u001b[0m 82ms/step - accuracy: 0.4197 - loss: 1.6528 - val_accuracy: 0.3956 - val_loss: 1.7197\n",
            "Epoch 8/50\n",
            "\u001b[1m391/391\u001b[0m \u001b[32m━━━━━━━━━━━━━━━━━━━━\u001b[0m\u001b[37m\u001b[0m \u001b[1m31s\u001b[0m 80ms/step - accuracy: 0.4309 - loss: 1.6109 - val_accuracy: 0.4265 - val_loss: 1.6217\n",
            "Epoch 9/50\n",
            "\u001b[1m391/391\u001b[0m \u001b[32m━━━━━━━━━━━━━━━━━━━━\u001b[0m\u001b[37m\u001b[0m \u001b[1m41s\u001b[0m 80ms/step - accuracy: 0.4347 - loss: 1.5985 - val_accuracy: 0.4221 - val_loss: 1.6663\n",
            "Epoch 10/50\n",
            "\u001b[1m391/391\u001b[0m \u001b[32m━━━━━━━━━━━━━━━━━━━━\u001b[0m\u001b[37m\u001b[0m \u001b[1m42s\u001b[0m 82ms/step - accuracy: 0.4426 - loss: 1.5727 - val_accuracy: 0.4268 - val_loss: 1.6063\n",
            "Epoch 11/50\n",
            "\u001b[1m391/391\u001b[0m \u001b[32m━━━━━━━━━━━━━━━━━━━━\u001b[0m\u001b[37m\u001b[0m \u001b[1m40s\u001b[0m 80ms/step - accuracy: 0.4462 - loss: 1.5712 - val_accuracy: 0.4425 - val_loss: 1.5767\n",
            "Epoch 12/50\n",
            "\u001b[1m391/391\u001b[0m \u001b[32m━━━━━━━━━━━━━━━━━━━━\u001b[0m\u001b[37m\u001b[0m \u001b[1m41s\u001b[0m 80ms/step - accuracy: 0.4444 - loss: 1.5600 - val_accuracy: 0.4363 - val_loss: 1.6149\n",
            "Epoch 13/50\n",
            "\u001b[1m391/391\u001b[0m \u001b[32m━━━━━━━━━━━━━━━━━━━━\u001b[0m\u001b[37m\u001b[0m \u001b[1m41s\u001b[0m 79ms/step - accuracy: 0.4452 - loss: 1.5674 - val_accuracy: 0.4295 - val_loss: 1.5874\n",
            "Epoch 14/50\n",
            "\u001b[1m391/391\u001b[0m \u001b[32m━━━━━━━━━━━━━━━━━━━━\u001b[0m\u001b[37m\u001b[0m \u001b[1m41s\u001b[0m 79ms/step - accuracy: 0.4475 - loss: 1.5422 - val_accuracy: 0.4265 - val_loss: 1.6097\n",
            "Epoch 15/50\n",
            "\u001b[1m391/391\u001b[0m \u001b[32m━━━━━━━━━━━━━━━━━━━━\u001b[0m\u001b[37m\u001b[0m \u001b[1m41s\u001b[0m 80ms/step - accuracy: 0.4562 - loss: 1.5371 - val_accuracy: 0.3930 - val_loss: 1.7508\n",
            "Epoch 16/50\n",
            "\u001b[1m391/391\u001b[0m \u001b[32m━━━━━━━━━━━━━━━━━━━━\u001b[0m\u001b[37m\u001b[0m \u001b[1m32s\u001b[0m 81ms/step - accuracy: 0.4604 - loss: 1.5238 - val_accuracy: 0.4467 - val_loss: 1.5618\n",
            "Epoch 17/50\n",
            "\u001b[1m391/391\u001b[0m \u001b[32m━━━━━━━━━━━━━━━━━━━━\u001b[0m\u001b[37m\u001b[0m \u001b[1m41s\u001b[0m 82ms/step - accuracy: 0.4657 - loss: 1.5095 - val_accuracy: 0.4365 - val_loss: 1.6067\n",
            "Epoch 18/50\n",
            "\u001b[1m391/391\u001b[0m \u001b[32m━━━━━━━━━━━━━━━━━━━━\u001b[0m\u001b[37m\u001b[0m \u001b[1m41s\u001b[0m 81ms/step - accuracy: 0.4786 - loss: 1.4746 - val_accuracy: 0.4475 - val_loss: 1.5584\n",
            "Epoch 19/50\n",
            "\u001b[1m391/391\u001b[0m \u001b[32m━━━━━━━━━━━━━━━━━━━━\u001b[0m\u001b[37m\u001b[0m \u001b[1m41s\u001b[0m 81ms/step - accuracy: 0.4739 - loss: 1.4690 - val_accuracy: 0.4686 - val_loss: 1.5110\n",
            "Epoch 20/50\n",
            "\u001b[1m391/391\u001b[0m \u001b[32m━━━━━━━━━━━━━━━━━━━━\u001b[0m\u001b[37m\u001b[0m \u001b[1m42s\u001b[0m 82ms/step - accuracy: 0.4819 - loss: 1.4477 - val_accuracy: 0.4535 - val_loss: 1.5512\n",
            "Epoch 21/50\n",
            "\u001b[1m391/391\u001b[0m \u001b[32m━━━━━━━━━━━━━━━━━━━━\u001b[0m\u001b[37m\u001b[0m \u001b[1m41s\u001b[0m 81ms/step - accuracy: 0.4848 - loss: 1.4484 - val_accuracy: 0.4808 - val_loss: 1.4805\n",
            "Epoch 22/50\n",
            "\u001b[1m391/391\u001b[0m \u001b[32m━━━━━━━━━━━━━━━━━━━━\u001b[0m\u001b[37m\u001b[0m \u001b[1m40s\u001b[0m 80ms/step - accuracy: 0.4970 - loss: 1.4182 - val_accuracy: 0.4853 - val_loss: 1.4673\n",
            "Epoch 23/50\n",
            "\u001b[1m391/391\u001b[0m \u001b[32m━━━━━━━━━━━━━━━━━━━━\u001b[0m\u001b[37m\u001b[0m \u001b[1m41s\u001b[0m 80ms/step - accuracy: 0.4957 - loss: 1.4148 - val_accuracy: 0.4256 - val_loss: 1.6304\n",
            "Epoch 24/50\n",
            "\u001b[1m391/391\u001b[0m \u001b[32m━━━━━━━━━━━━━━━━━━━━\u001b[0m\u001b[37m\u001b[0m \u001b[1m42s\u001b[0m 82ms/step - accuracy: 0.4938 - loss: 1.4238 - val_accuracy: 0.4652 - val_loss: 1.5140\n",
            "Epoch 25/50\n",
            "\u001b[1m391/391\u001b[0m \u001b[32m━━━━━━━━━━━━━━━━━━━━\u001b[0m\u001b[37m\u001b[0m \u001b[1m40s\u001b[0m 81ms/step - accuracy: 0.5009 - loss: 1.3940 - val_accuracy: 0.4830 - val_loss: 1.4606\n",
            "Epoch 26/50\n",
            "\u001b[1m391/391\u001b[0m \u001b[32m━━━━━━━━━━━━━━━━━━━━\u001b[0m\u001b[37m\u001b[0m \u001b[1m31s\u001b[0m 80ms/step - accuracy: 0.5118 - loss: 1.3668 - val_accuracy: 0.4599 - val_loss: 1.5533\n",
            "Epoch 27/50\n",
            "\u001b[1m391/391\u001b[0m \u001b[32m━━━━━━━━━━━━━━━━━━━━\u001b[0m\u001b[37m\u001b[0m \u001b[1m41s\u001b[0m 80ms/step - accuracy: 0.5113 - loss: 1.3642 - val_accuracy: 0.4821 - val_loss: 1.4793\n",
            "Epoch 28/50\n",
            "\u001b[1m391/391\u001b[0m \u001b[32m━━━━━━━━━━━━━━━━━━━━\u001b[0m\u001b[37m\u001b[0m \u001b[1m41s\u001b[0m 80ms/step - accuracy: 0.5176 - loss: 1.3519 - val_accuracy: 0.4535 - val_loss: 1.5600\n",
            "Epoch 29/50\n",
            "\u001b[1m391/391\u001b[0m \u001b[32m━━━━━━━━━━━━━━━━━━━━\u001b[0m\u001b[37m\u001b[0m \u001b[1m41s\u001b[0m 80ms/step - accuracy: 0.5234 - loss: 1.3406 - val_accuracy: 0.4908 - val_loss: 1.4551\n",
            "Epoch 30/50\n",
            "\u001b[1m391/391\u001b[0m \u001b[32m━━━━━━━━━━━━━━━━━━━━\u001b[0m\u001b[37m\u001b[0m \u001b[1m32s\u001b[0m 82ms/step - accuracy: 0.5230 - loss: 1.3398 - val_accuracy: 0.4647 - val_loss: 1.5261\n",
            "Epoch 31/50\n",
            "\u001b[1m391/391\u001b[0m \u001b[32m━━━━━━━━━━━━━━━━━━━━\u001b[0m\u001b[37m\u001b[0m \u001b[1m31s\u001b[0m 80ms/step - accuracy: 0.5202 - loss: 1.3445 - val_accuracy: 0.4913 - val_loss: 1.4879\n",
            "Epoch 32/50\n",
            "\u001b[1m391/391\u001b[0m \u001b[32m━━━━━━━━━━━━━━━━━━━━\u001b[0m\u001b[37m\u001b[0m \u001b[1m41s\u001b[0m 82ms/step - accuracy: 0.5327 - loss: 1.3094 - val_accuracy: 0.4943 - val_loss: 1.4581\n",
            "Epoch 33/50\n",
            "\u001b[1m391/391\u001b[0m \u001b[32m━━━━━━━━━━━━━━━━━━━━\u001b[0m\u001b[37m\u001b[0m \u001b[1m32s\u001b[0m 81ms/step - accuracy: 0.5406 - loss: 1.2940 - val_accuracy: 0.4788 - val_loss: 1.4886\n",
            "Epoch 34/50\n",
            "\u001b[1m391/391\u001b[0m \u001b[32m━━━━━━━━━━━━━━━━━━━━\u001b[0m\u001b[37m\u001b[0m \u001b[1m32s\u001b[0m 81ms/step - accuracy: 0.5468 - loss: 1.2736 - val_accuracy: 0.4926 - val_loss: 1.4783\n",
            "Epoch 35/50\n",
            "\u001b[1m391/391\u001b[0m \u001b[32m━━━━━━━━━━━━━━━━━━━━\u001b[0m\u001b[37m\u001b[0m \u001b[1m31s\u001b[0m 80ms/step - accuracy: 0.5458 - loss: 1.2729 - val_accuracy: 0.4849 - val_loss: 1.4539\n",
            "Epoch 36/50\n",
            "\u001b[1m391/391\u001b[0m \u001b[32m━━━━━━━━━━━━━━━━━━━━\u001b[0m\u001b[37m\u001b[0m \u001b[1m41s\u001b[0m 80ms/step - accuracy: 0.5514 - loss: 1.2664 - val_accuracy: 0.4995 - val_loss: 1.4230\n",
            "Epoch 37/50\n",
            "\u001b[1m391/391\u001b[0m \u001b[32m━━━━━━━━━━━━━━━━━━━━\u001b[0m\u001b[37m\u001b[0m \u001b[1m42s\u001b[0m 82ms/step - accuracy: 0.5538 - loss: 1.2514 - val_accuracy: 0.4957 - val_loss: 1.4705\n",
            "Epoch 38/50\n",
            "\u001b[1m391/391\u001b[0m \u001b[32m━━━━━━━━━━━━━━━━━━━━\u001b[0m\u001b[37m\u001b[0m \u001b[1m40s\u001b[0m 79ms/step - accuracy: 0.5592 - loss: 1.2382 - val_accuracy: 0.4854 - val_loss: 1.4728\n",
            "Epoch 39/50\n",
            "\u001b[1m391/391\u001b[0m \u001b[32m━━━━━━━━━━━━━━━━━━━━\u001b[0m\u001b[37m\u001b[0m \u001b[1m31s\u001b[0m 80ms/step - accuracy: 0.5725 - loss: 1.1994 - val_accuracy: 0.5020 - val_loss: 1.4397\n",
            "Epoch 40/50\n",
            "\u001b[1m391/391\u001b[0m \u001b[32m━━━━━━━━━━━━━━━━━━━━\u001b[0m\u001b[37m\u001b[0m \u001b[1m32s\u001b[0m 82ms/step - accuracy: 0.5682 - loss: 1.2149 - val_accuracy: 0.4925 - val_loss: 1.4881\n",
            "Epoch 41/50\n",
            "\u001b[1m391/391\u001b[0m \u001b[32m━━━━━━━━━━━━━━━━━━━━\u001b[0m\u001b[37m\u001b[0m \u001b[1m39s\u001b[0m 78ms/step - accuracy: 0.5743 - loss: 1.1866 - val_accuracy: 0.4950 - val_loss: 1.4544\n",
            "Epoch 42/50\n",
            "\u001b[1m391/391\u001b[0m \u001b[32m━━━━━━━━━━━━━━━━━━━━\u001b[0m\u001b[37m\u001b[0m \u001b[1m31s\u001b[0m 80ms/step - accuracy: 0.5720 - loss: 1.1993 - val_accuracy: 0.4955 - val_loss: 1.4749\n",
            "Epoch 43/50\n",
            "\u001b[1m391/391\u001b[0m \u001b[32m━━━━━━━━━━━━━━━━━━━━\u001b[0m\u001b[37m\u001b[0m \u001b[1m41s\u001b[0m 80ms/step - accuracy: 0.5847 - loss: 1.1709 - val_accuracy: 0.5028 - val_loss: 1.4508\n",
            "Epoch 44/50\n",
            "\u001b[1m391/391\u001b[0m \u001b[32m━━━━━━━━━━━━━━━━━━━━\u001b[0m\u001b[37m\u001b[0m \u001b[1m41s\u001b[0m 81ms/step - accuracy: 0.5887 - loss: 1.1636 - val_accuracy: 0.4889 - val_loss: 1.4951\n",
            "Epoch 45/50\n",
            "\u001b[1m391/391\u001b[0m \u001b[32m━━━━━━━━━━━━━━━━━━━━\u001b[0m\u001b[37m\u001b[0m \u001b[1m31s\u001b[0m 80ms/step - accuracy: 0.5914 - loss: 1.1431 - val_accuracy: 0.5028 - val_loss: 1.4583\n",
            "Epoch 46/50\n",
            "\u001b[1m391/391\u001b[0m \u001b[32m━━━━━━━━━━━━━━━━━━━━\u001b[0m\u001b[37m\u001b[0m \u001b[1m42s\u001b[0m 82ms/step - accuracy: 0.5957 - loss: 1.1375 - val_accuracy: 0.4781 - val_loss: 1.5691\n",
            "Epoch 47/50\n",
            "\u001b[1m391/391\u001b[0m \u001b[32m━━━━━━━━━━━━━━━━━━━━\u001b[0m\u001b[37m\u001b[0m \u001b[1m41s\u001b[0m 81ms/step - accuracy: 0.5998 - loss: 1.1270 - val_accuracy: 0.4845 - val_loss: 1.5451\n",
            "Epoch 48/50\n",
            "\u001b[1m391/391\u001b[0m \u001b[32m━━━━━━━━━━━━━━━━━━━━\u001b[0m\u001b[37m\u001b[0m \u001b[1m40s\u001b[0m 80ms/step - accuracy: 0.6031 - loss: 1.1185 - val_accuracy: 0.4964 - val_loss: 1.4815\n",
            "Epoch 49/50\n",
            "\u001b[1m391/391\u001b[0m \u001b[32m━━━━━━━━━━━━━━━━━━━━\u001b[0m\u001b[37m\u001b[0m \u001b[1m41s\u001b[0m 80ms/step - accuracy: 0.6067 - loss: 1.1099 - val_accuracy: 0.5074 - val_loss: 1.4912\n",
            "Epoch 50/50\n",
            "\u001b[1m391/391\u001b[0m \u001b[32m━━━━━━━━━━━━━━━━━━━━\u001b[0m\u001b[37m\u001b[0m \u001b[1m41s\u001b[0m 80ms/step - accuracy: 0.6135 - loss: 1.0851 - val_accuracy: 0.4852 - val_loss: 1.5527\n"
          ]
        },
        {
          "output_type": "execute_result",
          "data": {
            "text/plain": [
              "<keras.src.callbacks.history.History at 0x78d016bf21d0>"
            ]
          },
          "metadata": {},
          "execution_count": 6
        }
      ],
      "source": [
        "import pandas as pd\n",
        "import numpy as np\n",
        "from sklearn.model_selection import train_test_split\n",
        "from sklearn.preprocessing import StandardScaler, LabelEncoder\n",
        "import pandas as pd\n",
        "import numpy as np\n",
        "import matplotlib.pyplot as plt #hinh anh truc quan\n",
        "import seaborn as sns #bieu do\n",
        "import keras\n",
        "import tensorflow_datasets as tfds\n",
        "from tensorflow.keras.utils import to_categorical\n",
        "from tensorflow.keras.datasets import mnist #xu li hinh phang\n",
        "from tensorflow.keras.models import Sequential #tao mo hinh mang than kinh neuron\n",
        "from tensorflow.keras.layers import Dense, Dropout, Flatten #tranh overfitting, add Flatten\n",
        "from sklearn.preprocessing import StandardScaler, LabelEncoder\n",
        "\n",
        "# Đọc dữ liệu\n",
        "data = '/content/oxford_flower_102_name.csv'\n",
        "df = pd.read_csv(data)\n",
        "\n",
        "# Hiển thị dữ liệu để kiểm tra\n",
        "print(df.head())\n",
        "\n",
        "import keras\n",
        "(x_train, y_train),(x_test,y_test)=keras.datasets.cifar10.load_data()\n",
        "assert x_train.shape==(50000,32,32,3)\n",
        "assert x_test.shape==(10000,32,32,3) #50000 tam anh, kich thuoc 32x32\n",
        "assert y_train.shape==(50000,1)\n",
        "assert y_test.shape==(10000,1)\n",
        "y_train=to_categorical(y_train,102)\n",
        "y_test=to_categorical(y_test,102)\n",
        "\n",
        "# Reshape x_train and x_test to flatten the images\n",
        "x_train = x_train.reshape(x_train.shape[0], -1) # Reshape to (50000, 3072)\n",
        "x_test = x_test.reshape(x_test.shape[0], -1)   # Reshape to (10000, 3072)\n",
        "\n",
        "\n",
        "model=Sequential([\n",
        "    Dense(1024,activation='relu',input_shape=(32*32*3,)),\n",
        "    Dense(512,activation='relu'),\n",
        "    Dense(256,activation='relu'),\n",
        "    Dense(128,activation='relu'),\n",
        "    Dense(102,activation='sigmoid')\n",
        "])\n",
        "\n",
        "model.compile(optimizer='adam', loss='categorical_crossentropy', metrics=['accuracy'])\n",
        "\n",
        "model.fit(x_train, y_train, epochs=50, batch_size=128, validation_data=(x_test, y_test))"
      ]
    },
    {
      "cell_type": "code",
      "source": [
        "from keras.utils import load_img, img_to_array\n",
        "import matplotlib.pyplot as plt\n",
        "import numpy as np\n",
        "from tensorflow.keras.utils import load_img, img_to_array  # Import load_img and img_to_array\n",
        "from tensorflow.keras.preprocessing.image import smart_resize # added for resizing\n",
        "\n",
        "img_path = \"/content/camellia955.jpg\"\n",
        "img = load_img(img_path, target_size=(32, 32)) # Load with resizing to target size\n",
        "plt.imshow(img)\n",
        "img_array = img_to_array(img) / 255.0  # Normalize to [0, 1] range\n",
        "img_flatten = img_array.reshape(1, 32 * 32 * 3)  # Reshape for the model\n",
        "prediction = model.predict(img_flatten)\n",
        "print('tien doan la: ', np.argmax(prediction))"
      ],
      "metadata": {
        "colab": {
          "base_uri": "https://localhost:8080/",
          "height": 465
        },
        "id": "6UuT3fdAIABV",
        "outputId": "c8b83ee3-3c19-4f90-bde2-424b4bf7f162"
      },
      "execution_count": null,
      "outputs": [
        {
          "output_type": "stream",
          "name": "stdout",
          "text": [
            "\u001b[1m1/1\u001b[0m \u001b[32m━━━━━━━━━━━━━━━━━━━━\u001b[0m\u001b[37m\u001b[0m \u001b[1m0s\u001b[0m 113ms/step\n",
            "tien doan la:  6\n"
          ]
        },
        {
          "output_type": "display_data",
          "data": {
            "text/plain": [
              "<Figure size 640x480 with 1 Axes>"
            ],
            "image/png": "[encoded data removed]"
          },
          "metadata": {}
        }
      ]
    },
    {
      "cell_type": "markdown",
      "source": [
        "# **PALM**"
      ],
      "metadata": {
        "id": "n7tiPHmPzBuU"
      }
    },
    {
      "cell_type": "code",
      "source": [
        "import pandas as pd\n",
        "import numpy as np\n",
        "from sklearn.model_selection import train_test_split\n",
        "from sklearn.preprocessing import StandardScaler, LabelEncoder\n",
        "from tensorflow.keras.utils import to_categorical\n",
        "import pandas as pd\n",
        "import numpy as np\n",
        "import matplotlib.pyplot as plt #hinh anh truc quan\n",
        "import seaborn as sns #bieu do\n",
        "import keras\n",
        "\n",
        "import tensorflow_datasets as tfds\n",
        "from tensorflow.keras.utils import to_categorical\n",
        "from tensorflow.keras.datasets import mnist #xu li hinh phang\n",
        "from tensorflow.keras.models import Sequential #tao mo hinh mang than kinh neuron\n",
        "from tensorflow.keras.layers import Dense, Dropout, Flatten #tranh overfitting, add Flatten\n",
        "from sklearn.model_selection import train_test_split\n",
        "from sklearn.preprocessing import StandardScaler, LabelEncoder\n",
        "\n",
        "# Đọc dữ liệu\n",
        "data = '/content/HandInfo.csv'\n",
        "df = pd.read_csv(data)\n",
        "\n",
        "# Hiển thị dữ liệu để kiểm tra\n",
        "print(df.head())\n",
        "\n",
        "import keras\n",
        "(x_train, y_train),(x_test,y_test)=keras.datasets.cifar10.load_data()\n",
        "assert x_train.shape==(50000,32,32,3)\n",
        "assert x_test.shape==(10000,32,32,3) #50000 tam anh, kich thuoc 32x32\n",
        "assert y_train.shape==(50000,1)\n",
        "assert y_test.shape==(10000,1)\n",
        "y_train=to_categorical(y_train,102)\n",
        "y_test=to_categorical(y_test,102)\n",
        "\n",
        "# Reshape x_train and x_test to flatten the images\n",
        "x_train = x_train.reshape(x_train.shape[0], -1) # Reshape to (50000, 3072)\n",
        "x_test = x_test.reshape(x_test.shape[0], -1)   # Reshape to (10000, 3072)\n",
        "\n",
        "\n",
        "model=Sequential([\n",
        "    Dense(1024,activation='relu',input_shape=(32*32*3,)),\n",
        "    Dense(512,activation='relu'),\n",
        "    Dense(256,activation='relu'),\n",
        "    Dense(128,activation='relu'),\n",
        "    Dense(102,activation='sigmoid')\n",
        "])\n",
        "\n",
        "model.compile(optimizer='adam', loss='categorical_crossentropy', metrics=['accuracy'])\n",
        "\n",
        "model.fit(x_train, y_train, epochs=10, batch_size=64, validation_data=(x_test, y_test))"
      ],
      "metadata": {
        "colab": {
          "base_uri": "https://localhost:8080/"
        },
        "id": "gVWNp_B4QbqM",
        "outputId": "f1654218-8af5-4757-b617-68bba54fcd0e"
      },
      "execution_count": null,
      "outputs": [
        {
          "output_type": "stream",
          "name": "stdout",
          "text": [
            "   id  age gender skinColor  accessories  nailPolish  aspectOfHand  \\\n",
            "0   0   27   male      fair            0           0  dorsal right   \n",
            "1   0   27   male      fair            0           0  dorsal right   \n",
            "2   0   27   male      fair            0           0  dorsal right   \n",
            "3   0   27   male      fair            0           0  dorsal right   \n",
            "4   0   27   male      fair            0           0  dorsal right   \n",
            "\n",
            "          imageName  irregularities  \n",
            "0  Hand_0000002.jpg               0  \n",
            "1  Hand_0000003.jpg               0  \n",
            "2  Hand_0000004.jpg               0  \n",
            "3  Hand_0000005.jpg               0  \n",
            "4  Hand_0000006.jpg               0  \n"
          ]
        },
        {
          "output_type": "stream",
          "name": "stderr",
          "text": [
            "/usr/local/lib/python3.11/dist-packages/keras/src/layers/core/dense.py:87: UserWarning: Do not pass an `input_shape`/`input_dim` argument to a layer. When using Sequential models, prefer using an `Input(shape)` object as the first layer in the model instead.\n",
            "  super().__init__(activity_regularizer=activity_regularizer, **kwargs)\n"
          ]
        },
        {
          "output_type": "stream",
          "name": "stdout",
          "text": [
            "Epoch 1/10\n",
            "\u001b[1m782/782\u001b[0m \u001b[32m━━━━━━━━━━━━━━━━━━━━\u001b[0m\u001b[37m\u001b[0m \u001b[1m50s\u001b[0m 61ms/step - accuracy: 0.1951 - loss: 55.5534 - val_accuracy: 0.2759 - val_loss: 2.2834\n",
            "Epoch 2/10\n",
            "\u001b[1m782/782\u001b[0m \u001b[32m━━━━━━━━━━━━━━━━━━━━\u001b[0m\u001b[37m\u001b[0m \u001b[1m81s\u001b[0m 60ms/step - accuracy: 0.3271 - loss: 1.9415 - val_accuracy: 0.3440 - val_loss: 1.8135\n",
            "Epoch 3/10\n",
            "\u001b[1m782/782\u001b[0m \u001b[32m━━━━━━━━━━━━━━━━━━━━\u001b[0m\u001b[37m\u001b[0m \u001b[1m81s\u001b[0m 59ms/step - accuracy: 0.3592 - loss: 1.8295 - val_accuracy: 0.3786 - val_loss: 1.7420\n",
            "Epoch 4/10\n",
            "\u001b[1m782/782\u001b[0m \u001b[32m━━━━━━━━━━━━━━━━━━━━\u001b[0m\u001b[37m\u001b[0m \u001b[1m83s\u001b[0m 60ms/step - accuracy: 0.3809 - loss: 1.7556 - val_accuracy: 0.3397 - val_loss: 1.8442\n",
            "Epoch 5/10\n",
            "\u001b[1m782/782\u001b[0m \u001b[32m━━━━━━━━━━━━━━━━━━━━\u001b[0m\u001b[37m\u001b[0m \u001b[1m47s\u001b[0m 60ms/step - accuracy: 0.3827 - loss: 1.7401 - val_accuracy: 0.3940 - val_loss: 1.7116\n",
            "Epoch 6/10\n",
            "\u001b[1m782/782\u001b[0m \u001b[32m━━━━━━━━━━━━━━━━━━━━\u001b[0m\u001b[37m\u001b[0m \u001b[1m81s\u001b[0m 60ms/step - accuracy: 0.3925 - loss: 1.7171 - val_accuracy: 0.3940 - val_loss: 1.6789\n",
            "Epoch 7/10\n",
            "\u001b[1m782/782\u001b[0m \u001b[32m━━━━━━━━━━━━━━━━━━━━\u001b[0m\u001b[37m\u001b[0m \u001b[1m81s\u001b[0m 59ms/step - accuracy: 0.4045 - loss: 1.6723 - val_accuracy: 0.3964 - val_loss: 1.6898\n",
            "Epoch 8/10\n",
            "\u001b[1m782/782\u001b[0m \u001b[32m━━━━━━━━━━━━━━━━━━━━\u001b[0m\u001b[37m\u001b[0m \u001b[1m83s\u001b[0m 60ms/step - accuracy: 0.4035 - loss: 1.6625 - val_accuracy: 0.3928 - val_loss: 1.6506\n",
            "Epoch 9/10\n",
            "\u001b[1m782/782\u001b[0m \u001b[32m━━━━━━━━━━━━━━━━━━━━\u001b[0m\u001b[37m\u001b[0m \u001b[1m46s\u001b[0m 59ms/step - accuracy: 0.4039 - loss: 1.6538 - val_accuracy: 0.3971 - val_loss: 1.6529\n",
            "Epoch 10/10\n",
            "\u001b[1m782/782\u001b[0m \u001b[32m━━━━━━━━━━━━━━━━━━━━\u001b[0m\u001b[37m\u001b[0m \u001b[1m81s\u001b[0m 58ms/step - accuracy: 0.4176 - loss: 1.6163 - val_accuracy: 0.3795 - val_loss: 1.6791\n"
          ]
        },
        {
          "output_type": "execute_result",
          "data": {
            "text/plain": [
              "<keras.src.callbacks.history.History at 0x78d01ab68390>"
            ]
          },
          "metadata": {},
          "execution_count": 10
        }
      ]
    },
    {
      "cell_type": "code",
      "source": [
        "img_path = \"/content/palm.png\"\n",
        "img = load_img(img_path, target_size=(32, 32)) # Load with resizing to target size\n",
        "plt.imshow(img)\n",
        "img_array = img_to_array(img) / 255.0  # Normalize to [0, 1] range\n",
        "img_flatten = img_array.reshape(1, 32 * 32 * 3)  # Reshape for the model\n",
        "prediction = model.predict(img_flatten)\n",
        "print('tien doan la: ', np.argmax(prediction))"
      ],
      "metadata": {
        "colab": {
          "base_uri": "https://localhost:8080/",
          "height": 465
        },
        "id": "OUMzYremUoMF",
        "outputId": "3bc419c4-bf42-4416-e23d-ef8629752a1f"
      },
      "execution_count": null,
      "outputs": [
        {
          "output_type": "stream",
          "name": "stdout",
          "text": [
            "\u001b[1m1/1\u001b[0m \u001b[32m━━━━━━━━━━━━━━━━━━━━\u001b[0m\u001b[37m\u001b[0m \u001b[1m0s\u001b[0m 104ms/step\n",
            "tien doan la:  6\n"
          ]
        },
        {
          "output_type": "display_data",
          "data": {
            "text/plain": [
              "<Figure size 640x480 with 1 Axes>"
            ],
            "image/png": "[encoded data removed]"
          },
          "metadata": {}
        }
      ]
    },
    {
      "cell_type": "code",
      "source": [
        "from google.colab import drive\n",
        "drive.mount('/content/drive')"
      ],
      "metadata": {
        "colab": {
          "base_uri": "https://localhost:8080/"
        },
        "id": "JW9E9h5i8p6K",
        "outputId": "2c73801e-39cb-499e-fd44-2d5d85856dbc"
      },
      "execution_count": null,
      "outputs": [
        {
          "output_type": "stream",
          "name": "stdout",
          "text": [
            "Drive already mounted at /content/drive; to attempt to forcibly remount, call drive.mount(\"/content/drive\", force_remount=True).\n"
          ]
        }
      ]
    },
    {
      "cell_type": "markdown",
      "source": [
        "# **BANKNOTES**"
      ],
      "metadata": {
        "id": "pOw-t_tdGk8B"
      }
    },
    {
      "cell_type": "code",
      "source": [
        "import pandas as pd\n",
        "import numpy as np\n",
        "from sklearn.model_selection import train_test_split\n",
        "from sklearn.preprocessing import StandardScaler, LabelEncoder\n",
        "import pandas as pd\n",
        "import numpy as np\n",
        "import matplotlib.pyplot as plt #hinh anh truc quan\n",
        "import seaborn as sns #bieu do\n",
        "import keras\n",
        "import tensorflow_datasets as tfds\n",
        "from tensorflow.keras.utils import to_categorical\n",
        "from tensorflow.keras.datasets import mnist #xu li hinh phang\n",
        "from tensorflow.keras.models import Sequential #tao mo hinh mang than kinh neuron\n",
        "from tensorflow.keras.layers import Dense, Dropout, Flatten #tranh overfitting, add Flatten\n",
        "from sklearn.preprocessing import StandardScaler, LabelEncoder\n",
        "from tensorflow.keras.models import load_model\n",
        "from tensorflow.keras.preprocessing import image\n",
        "from keras.datasets import cifar10\n",
        "from keras.utils import load_img, img_to_array\n",
        "import os #lấy link dataset\n",
        "\n",
        "#X_train, y_train), (X_test, y_test)=cifar10.load_data()\n",
        "\n",
        "\n",
        "import keras\n",
        "(X_train, y_train),(X_test,y_test)=keras.datasets.cifar10.load_data()\n",
        "\n",
        "dataset_dir = 'https://github.com/anh10010/VND_banknotes_classification_streamlit_app/tree/main/DATASET'\n",
        "train_dir = os.path.join(dataset_dir, 'train')\n",
        "test_dir = os.path.join(dataset_dir, 'test')\n",
        "X_train = X_train.reshape(50000, 32*32*3)\n",
        "X_train = X_train.astype('float32')/255\n",
        "X_test = X_test.reshape(10000,32*32*3)\n",
        "X_test = X_test.astype('float32')/255\n",
        "from keras.utils import to_categorical\n",
        "y_train = to_categorical(y_train,10)\n",
        "y_test = to_categorical(y_test,10)\n",
        "\n",
        "model=Sequential([\n",
        "    Dense(1024,activation='relu',input_shape=(32*32*3,)),\n",
        "    Dense(512,activation='relu'),\n",
        "    Dense(256,activation='relu'),\n",
        "    Dense(128,activation='relu'),\n",
        "    Dense(10,activation='softmax')])\n",
        "\n",
        "model.summary()"
      ],
      "metadata": {
        "id": "65pGpC_lUuMJ",
        "colab": {
          "base_uri": "https://localhost:8080/",
          "height": 306
        },
        "outputId": "355a52be-3126-41b5-dbc1-eb1b4bc8ca63"
      },
      "execution_count": null,
      "outputs": [
        {
          "output_type": "display_data",
          "data": {
            "text/plain": [
              "\u001b[1mModel: \"sequential_4\"\u001b[0m\n"
            ],
            "text/html": [
              "<pre style=\"white-space:pre;overflow-x:auto;line-height:normal;font-family:Menlo,'DejaVu Sans Mono',consolas,'Courier New',monospace\"><span style=\"font-weight: bold\">Model: \"sequential_4\"</span>\n",
              "</pre>\n"
            ]
          },
          "metadata": {}
        },
        {
          "output_type": "display_data",
          "data": {
            "text/plain": [
              "┏━━━━━━━━━━━━━━━━━━━━━━━━━━━━━━━━━┳━━━━━━━━━━━━━━━━━━━━━━━━┳━━━━━━━━━━━━━━━┓\n",
              "┃\u001b[1m \u001b[0m\u001b[1mLayer (type)                   \u001b[0m\u001b[1m \u001b[0m┃\u001b[1m \u001b[0m\u001b[1mOutput Shape          \u001b[0m\u001b[1m \u001b[0m┃\u001b[1m \u001b[0m\u001b[1m      Param #\u001b[0m\u001b[1m \u001b[0m┃\n",
              "┡━━━━━━━━━━━━━━━━━━━━━━━━━━━━━━━━━╇━━━━━━━━━━━━━━━━━━━━━━━━╇━━━━━━━━━━━━━━━┩\n",
              "│ dense_20 (\u001b[38;5;33mDense\u001b[0m)                │ (\u001b[38;5;45mNone\u001b[0m, \u001b[38;5;34m1024\u001b[0m)           │     \u001b[38;5;34m3,146,752\u001b[0m │\n",
              "├─────────────────────────────────┼────────────────────────┼───────────────┤\n",
              "│ dense_21 (\u001b[38;5;33mDense\u001b[0m)                │ (\u001b[38;5;45mNone\u001b[0m, \u001b[38;5;34m512\u001b[0m)            │       \u001b[38;5;34m524,800\u001b[0m │\n",
              "├─────────────────────────────────┼────────────────────────┼───────────────┤\n",
              "│ dense_22 (\u001b[38;5;33mDense\u001b[0m)                │ (\u001b[38;5;45mNone\u001b[0m, \u001b[38;5;34m256\u001b[0m)            │       \u001b[38;5;34m131,328\u001b[0m │\n",
              "├─────────────────────────────────┼────────────────────────┼───────────────┤\n",
              "│ dense_23 (\u001b[38;5;33mDense\u001b[0m)                │ (\u001b[38;5;45mNone\u001b[0m, \u001b[38;5;34m128\u001b[0m)            │        \u001b[38;5;34m32,896\u001b[0m │\n",
              "├─────────────────────────────────┼────────────────────────┼───────────────┤\n",
              "│ dense_24 (\u001b[38;5;33mDense\u001b[0m)                │ (\u001b[38;5;45mNone\u001b[0m, \u001b[38;5;34m10\u001b[0m)             │         \u001b[38;5;34m1,290\u001b[0m │\n",
              "└─────────────────────────────────┴────────────────────────┴───────────────┘\n"
            ],
            "text/html": [
              "<pre style=\"white-space:pre;overflow-x:auto;line-height:normal;font-family:Menlo,'DejaVu Sans Mono',consolas,'Courier New',monospace\">┏━━━━━━━━━━━━━━━━━━━━━━━━━━━━━━━━━┳━━━━━━━━━━━━━━━━━━━━━━━━┳━━━━━━━━━━━━━━━┓\n",
              "┃<span style=\"font-weight: bold\"> Layer (type)                    </span>┃<span style=\"font-weight: bold\"> Output Shape           </span>┃<span style=\"font-weight: bold\">       Param # </span>┃\n",
              "┡━━━━━━━━━━━━━━━━━━━━━━━━━━━━━━━━━╇━━━━━━━━━━━━━━━━━━━━━━━━╇━━━━━━━━━━━━━━━┩\n",
              "│ dense_20 (<span style=\"color: #0087ff; text-decoration-color: #0087ff\">Dense</span>)                │ (<span style=\"color: #00d7ff; text-decoration-color: #00d7ff\">None</span>, <span style=\"color: #00af00; text-decoration-color: #00af00\">1024</span>)           │     <span style=\"color: #00af00; text-decoration-color: #00af00\">3,146,752</span> │\n",
              "├─────────────────────────────────┼────────────────────────┼───────────────┤\n",
              "│ dense_21 (<span style=\"color: #0087ff; text-decoration-color: #0087ff\">Dense</span>)                │ (<span style=\"color: #00d7ff; text-decoration-color: #00d7ff\">None</span>, <span style=\"color: #00af00; text-decoration-color: #00af00\">512</span>)            │       <span style=\"color: #00af00; text-decoration-color: #00af00\">524,800</span> │\n",
              "├─────────────────────────────────┼────────────────────────┼───────────────┤\n",
              "│ dense_22 (<span style=\"color: #0087ff; text-decoration-color: #0087ff\">Dense</span>)                │ (<span style=\"color: #00d7ff; text-decoration-color: #00d7ff\">None</span>, <span style=\"color: #00af00; text-decoration-color: #00af00\">256</span>)            │       <span style=\"color: #00af00; text-decoration-color: #00af00\">131,328</span> │\n",
              "├─────────────────────────────────┼────────────────────────┼───────────────┤\n",
              "│ dense_23 (<span style=\"color: #0087ff; text-decoration-color: #0087ff\">Dense</span>)                │ (<span style=\"color: #00d7ff; text-decoration-color: #00d7ff\">None</span>, <span style=\"color: #00af00; text-decoration-color: #00af00\">128</span>)            │        <span style=\"color: #00af00; text-decoration-color: #00af00\">32,896</span> │\n",
              "├─────────────────────────────────┼────────────────────────┼───────────────┤\n",
              "│ dense_24 (<span style=\"color: #0087ff; text-decoration-color: #0087ff\">Dense</span>)                │ (<span style=\"color: #00d7ff; text-decoration-color: #00d7ff\">None</span>, <span style=\"color: #00af00; text-decoration-color: #00af00\">10</span>)             │         <span style=\"color: #00af00; text-decoration-color: #00af00\">1,290</span> │\n",
              "└─────────────────────────────────┴────────────────────────┴───────────────┘\n",
              "</pre>\n"
            ]
          },
          "metadata": {}
        },
        {
          "output_type": "display_data",
          "data": {
            "text/plain": [
              "\u001b[1m Total params: \u001b[0m\u001b[38;5;34m3,837,066\u001b[0m (14.64 MB)\n"
            ],
            "text/html": [
              "<pre style=\"white-space:pre;overflow-x:auto;line-height:normal;font-family:Menlo,'DejaVu Sans Mono',consolas,'Courier New',monospace\"><span style=\"font-weight: bold\"> Total params: </span><span style=\"color: #00af00; text-decoration-color: #00af00\">3,837,066</span> (14.64 MB)\n",
              "</pre>\n"
            ]
          },
          "metadata": {}
        },
        {
          "output_type": "display_data",
          "data": {
            "text/plain": [
              "\u001b[1m Trainable params: \u001b[0m\u001b[38;5;34m3,837,066\u001b[0m (14.64 MB)\n"
            ],
            "text/html": [
              "<pre style=\"white-space:pre;overflow-x:auto;line-height:normal;font-family:Menlo,'DejaVu Sans Mono',consolas,'Courier New',monospace\"><span style=\"font-weight: bold\"> Trainable params: </span><span style=\"color: #00af00; text-decoration-color: #00af00\">3,837,066</span> (14.64 MB)\n",
              "</pre>\n"
            ]
          },
          "metadata": {}
        },
        {
          "output_type": "display_data",
          "data": {
            "text/plain": [
              "\u001b[1m Non-trainable params: \u001b[0m\u001b[38;5;34m0\u001b[0m (0.00 B)\n"
            ],
            "text/html": [
              "<pre style=\"white-space:pre;overflow-x:auto;line-height:normal;font-family:Menlo,'DejaVu Sans Mono',consolas,'Courier New',monospace\"><span style=\"font-weight: bold\"> Non-trainable params: </span><span style=\"color: #00af00; text-decoration-color: #00af00\">0</span> (0.00 B)\n",
              "</pre>\n"
            ]
          },
          "metadata": {}
        }
      ]
    },
    {
      "cell_type": "code",
      "source": [
        "model.compile(optimizer='adam', loss='categorical_crossentropy', metrics=['accuracy'])"
      ],
      "metadata": {
        "id": "O8o6kGazADPZ"
      },
      "execution_count": null,
      "outputs": []
    },
    {
      "cell_type": "code",
      "source": [
        "history = model.fit(X_train, y_train,\n",
        "                    epochs=20,\n",
        "                    batch_size =64,\n",
        "                    validation_data=(X_test, y_test))"
      ],
      "metadata": {
        "colab": {
          "base_uri": "https://localhost:8080/"
        },
        "id": "8EuluNXEAfkm",
        "outputId": "053ca105-e830-4efd-fa3d-7a16b1837be8"
      },
      "execution_count": null,
      "outputs": [
        {
          "output_type": "stream",
          "name": "stdout",
          "text": [
            "Epoch 1/20\n",
            "\u001b[1m782/782\u001b[0m \u001b[32m━━━━━━━━━━━━━━━━━━━━\u001b[0m\u001b[37m\u001b[0m \u001b[1m57s\u001b[0m 71ms/step - accuracy: 0.2477 - loss: 2.0410 - val_accuracy: 0.3804 - val_loss: 1.7199\n",
            "Epoch 2/20\n",
            "\u001b[1m782/782\u001b[0m \u001b[32m━━━━━━━━━━━━━━━━━━━━\u001b[0m\u001b[37m\u001b[0m \u001b[1m79s\u001b[0m 67ms/step - accuracy: 0.3831 - loss: 1.7132 - val_accuracy: 0.4256 - val_loss: 1.6150\n",
            "Epoch 3/20\n",
            "\u001b[1m782/782\u001b[0m \u001b[32m━━━━━━━━━━━━━━━━━━━━\u001b[0m\u001b[37m\u001b[0m \u001b[1m82s\u001b[0m 68ms/step - accuracy: 0.4250 - loss: 1.6121 - val_accuracy: 0.4352 - val_loss: 1.5914\n",
            "Epoch 4/20\n",
            "\u001b[1m782/782\u001b[0m \u001b[32m━━━━━━━━━━━━━━━━━━━━\u001b[0m\u001b[37m\u001b[0m \u001b[1m87s\u001b[0m 75ms/step - accuracy: 0.4455 - loss: 1.5445 - val_accuracy: 0.4582 - val_loss: 1.5106\n",
            "Epoch 5/20\n",
            "\u001b[1m782/782\u001b[0m \u001b[32m━━━━━━━━━━━━━━━━━━━━\u001b[0m\u001b[37m\u001b[0m \u001b[1m83s\u001b[0m 77ms/step - accuracy: 0.4637 - loss: 1.4942 - val_accuracy: 0.4583 - val_loss: 1.5108\n",
            "Epoch 6/20\n",
            "\u001b[1m782/782\u001b[0m \u001b[32m━━━━━━━━━━━━━━━━━━━━\u001b[0m\u001b[37m\u001b[0m \u001b[1m54s\u001b[0m 69ms/step - accuracy: 0.4779 - loss: 1.4501 - val_accuracy: 0.4794 - val_loss: 1.4795\n",
            "Epoch 7/20\n",
            "\u001b[1m782/782\u001b[0m \u001b[32m━━━━━━━━━━━━━━━━━━━━\u001b[0m\u001b[37m\u001b[0m \u001b[1m54s\u001b[0m 69ms/step - accuracy: 0.4923 - loss: 1.4101 - val_accuracy: 0.4880 - val_loss: 1.4475\n",
            "Epoch 8/20\n",
            "\u001b[1m782/782\u001b[0m \u001b[32m━━━━━━━━━━━━━━━━━━━━\u001b[0m\u001b[37m\u001b[0m \u001b[1m80s\u001b[0m 66ms/step - accuracy: 0.5039 - loss: 1.3753 - val_accuracy: 0.4898 - val_loss: 1.4311\n",
            "Epoch 9/20\n",
            "\u001b[1m782/782\u001b[0m \u001b[32m━━━━━━━━━━━━━━━━━━━━\u001b[0m\u001b[37m\u001b[0m \u001b[1m82s\u001b[0m 66ms/step - accuracy: 0.5157 - loss: 1.3486 - val_accuracy: 0.4946 - val_loss: 1.4292\n",
            "Epoch 10/20\n",
            "\u001b[1m782/782\u001b[0m \u001b[32m━━━━━━━━━━━━━━━━━━━━\u001b[0m\u001b[37m\u001b[0m \u001b[1m81s\u001b[0m 66ms/step - accuracy: 0.5236 - loss: 1.3185 - val_accuracy: 0.4840 - val_loss: 1.4455\n",
            "Epoch 11/20\n",
            "\u001b[1m782/782\u001b[0m \u001b[32m━━━━━━━━━━━━━━━━━━━━\u001b[0m\u001b[37m\u001b[0m \u001b[1m85s\u001b[0m 69ms/step - accuracy: 0.5340 - loss: 1.2897 - val_accuracy: 0.4901 - val_loss: 1.4322\n",
            "Epoch 12/20\n",
            "\u001b[1m782/782\u001b[0m \u001b[32m━━━━━━━━━━━━━━━━━━━━\u001b[0m\u001b[37m\u001b[0m \u001b[1m80s\u001b[0m 66ms/step - accuracy: 0.5473 - loss: 1.2604 - val_accuracy: 0.5039 - val_loss: 1.4139\n",
            "Epoch 13/20\n",
            "\u001b[1m782/782\u001b[0m \u001b[32m━━━━━━━━━━━━━━━━━━━━\u001b[0m\u001b[37m\u001b[0m \u001b[1m84s\u001b[0m 69ms/step - accuracy: 0.5601 - loss: 1.2284 - val_accuracy: 0.5079 - val_loss: 1.4033\n",
            "Epoch 14/20\n",
            "\u001b[1m782/782\u001b[0m \u001b[32m━━━━━━━━━━━━━━━━━━━━\u001b[0m\u001b[37m\u001b[0m \u001b[1m81s\u001b[0m 67ms/step - accuracy: 0.5687 - loss: 1.2012 - val_accuracy: 0.5015 - val_loss: 1.4396\n",
            "Epoch 15/20\n",
            "\u001b[1m782/782\u001b[0m \u001b[32m━━━━━━━━━━━━━━━━━━━━\u001b[0m\u001b[37m\u001b[0m \u001b[1m82s\u001b[0m 68ms/step - accuracy: 0.5740 - loss: 1.1816 - val_accuracy: 0.5158 - val_loss: 1.4221\n",
            "Epoch 16/20\n",
            "\u001b[1m782/782\u001b[0m \u001b[32m━━━━━━━━━━━━━━━━━━━━\u001b[0m\u001b[37m\u001b[0m \u001b[1m80s\u001b[0m 65ms/step - accuracy: 0.5898 - loss: 1.1412 - val_accuracy: 0.5020 - val_loss: 1.4401\n",
            "Epoch 17/20\n",
            "\u001b[1m782/782\u001b[0m \u001b[32m━━━━━━━━━━━━━━━━━━━━\u001b[0m\u001b[37m\u001b[0m \u001b[1m83s\u001b[0m 67ms/step - accuracy: 0.6022 - loss: 1.1088 - val_accuracy: 0.5158 - val_loss: 1.4229\n",
            "Epoch 18/20\n",
            "\u001b[1m782/782\u001b[0m \u001b[32m━━━━━━━━━━━━━━━━━━━━\u001b[0m\u001b[37m\u001b[0m \u001b[1m52s\u001b[0m 66ms/step - accuracy: 0.6019 - loss: 1.0934 - val_accuracy: 0.5106 - val_loss: 1.4369\n",
            "Epoch 19/20\n",
            "\u001b[1m782/782\u001b[0m \u001b[32m━━━━━━━━━━━━━━━━━━━━\u001b[0m\u001b[37m\u001b[0m \u001b[1m84s\u001b[0m 68ms/step - accuracy: 0.6166 - loss: 1.0565 - val_accuracy: 0.4994 - val_loss: 1.4754\n",
            "Epoch 20/20\n",
            "\u001b[1m782/782\u001b[0m \u001b[32m━━━━━━━━━━━━━━━━━━━━\u001b[0m\u001b[37m\u001b[0m \u001b[1m79s\u001b[0m 65ms/step - accuracy: 0.6282 - loss: 1.0332 - val_accuracy: 0.5044 - val_loss: 1.5042\n"
          ]
        }
      ]
    },
    {
      "cell_type": "code",
      "source": [
        "import matplotlib.pyplot as plt\n",
        "url = ('/content/menhgia20k.png')\n",
        "img =load_img(url, target_size=(32,32))\n",
        "plt.imshow(img)\n",
        "plt.show()\n",
        "img_array = img_to_array(img)/255\n",
        "img_flatten = img_array.reshape(1,32*32*3)\n",
        "prediction = model.predict(img_flatten)\n",
        "print('tien doan la:', np.argmax(prediction))"
      ],
      "metadata": {
        "colab": {
          "base_uri": "https://localhost:8080/",
          "height": 465
        },
        "id": "0F7_4cLkENvY",
        "outputId": "bd71d5b2-1a6b-4ee5-cf58-81cebc17cf95"
      },
      "execution_count": null,
      "outputs": [
        {
          "output_type": "display_data",
          "data": {
            "text/plain": [
              "<Figure size 640x480 with 1 Axes>"
            ],
            "image/png": "[encoded data removed]"
          },
          "metadata": {}
        },
        {
          "output_type": "stream",
          "name": "stdout",
          "text": [
            "\u001b[1m1/1\u001b[0m \u001b[32m━━━━━━━━━━━━━━━━━━━━\u001b[0m\u001b[37m\u001b[0m \u001b[1m0s\u001b[0m 99ms/step\n",
            "tien doan la: 0\n"
          ]
        }
      ]
    },
    {
      "cell_type": "markdown",
      "source": [
        "# **VIETNAMESE FOODS**:"
      ],
      "metadata": {
        "id": "DxeQztjcGvlB"
      }
    },
    {
      "cell_type": "code",
      "source": [
        "import pandas as pd\n",
        "import numpy as np\n",
        "from sklearn.model_selection import train_test_split\n",
        "from sklearn.preprocessing import StandardScaler, LabelEncoder\n",
        "import pandas as pd\n",
        "import numpy as np\n",
        "import matplotlib.pyplot as plt #hinh anh truc quan\n",
        "import seaborn as sns #bieu do\n",
        "import keras\n",
        "import tensorflow_datasets as tfds\n",
        "from tensorflow.keras.utils import to_categorical\n",
        "from tensorflow.keras.datasets import mnist #xu li hinh phang\n",
        "from tensorflow.keras.models import Sequential #tao mo hinh mang than kinh neuron\n",
        "from tensorflow.keras.layers import Dense, Dropout, Flatten #tranh overfitting, add Flatten\n",
        "from sklearn.preprocessing import StandardScaler, LabelEncoder\n",
        "from tensorflow.keras.models import load_model\n",
        "from tensorflow.keras.preprocessing import image\n",
        "from keras.datasets import cifar10\n",
        "from keras.utils import load_img, img_to_array\n",
        "import os #lấy link dataset\n",
        "\n",
        "#X_train, y_train), (X_test, y_test)=cifar10.load_data()\n",
        "\n",
        "\n",
        "import keras\n",
        "(X_train, y_train),(X_test,y_test)=keras.datasets.cifar10.load_data()\n",
        "\n",
        "datagen = ImageDataGenerator(rescale=1.0/255)\n",
        "generator = datagen.flow_from_directory(\n",
        "    '/content/CÁC MÓN ĂN VIET NAM',\n",
        "    target_size=(60, 60),\n",
        "    color_mode='rgb',\n",
        "    class_mode='categorical',\n",
        "    batch_size=32,\n",
        "    shuffle=True\n",
        ")\n",
        "test_generator = datagen.flow_from_directory(\n",
        "    '/content/CÁC MÓN ĂN VIET NAM',\n",
        "    target_size=(60, 60),\n",
        "    color_mode='rgb',\n",
        "    class_mode='categorical',\n",
        "    batch_size=10000,\n",
        "    shuffle=False\n",
        ")\n",
        "class_labels = ['BÁNH BỘT LỌC', 'BÁNH CANH', 'BÁNH CHƯNG', 'BÁNH TRÁNG NƯỚNG', 'BÚN BÒ']\n",
        "X_batch, y_batch = next(generator)\n",
        "test_generator = datagen.flow_from_directory(\n",
        "    '/content/CÁC MÓN ĂN VIET NAM',\n",
        "    target_size=(60, 60),\n",
        "    color_mode='rgb',\n",
        "    class_mode='categorical',\n",
        "    batch_size=10000,\n",
        "    shuffle=False\n",
        ")\n",
        "x_train, y_train = next(generator)\n",
        "x_test, y_test = next(test_generator)\n",
        "x_train = x_train.reshape(x_train.shape[0], 60 * 60 * 3)\n",
        "x_test = x_test.reshape(x_test.shape[0], 60 * 60 * 3)\n",
        "print(\"Train shape:\", x_train.shape, y_train.shape)\n",
        "print(\"Test shape:\", x_test.shape, y_test.shape)"
      ],
      "metadata": {
        "colab": {
          "base_uri": "https://localhost:8080/"
        },
        "id": "HYto35rPGhEc",
        "outputId": "0cf65d0c-20fb-4e37-f262-0b12521fd4a9"
      },
      "execution_count": null,
      "outputs": [
        {
          "output_type": "stream",
          "name": "stdout",
          "text": [
            "Found 50 images belonging to 6 classes.\n",
            "Found 50 images belonging to 6 classes.\n",
            "Found 50 images belonging to 6 classes.\n",
            "Train shape: (18, 10800) (18, 6)\n",
            "Test shape: (50, 10800) (50, 6)\n"
          ]
        }
      ]
    },
    {
      "cell_type": "code",
      "source": [
        "from tensorflow.keras.models import Sequential\n",
        "from tensorflow.keras.layers import Dense\n",
        "\n",
        "model = Sequential([\n",
        "    Dense(256, activation='relu', input_shape=(60*60*3,)),\n",
        "    Dense(128, activation='relu'),\n",
        "    Dense(generator.num_classes, activation='softmax')\n",
        "])\n"
      ],
      "metadata": {
        "id": "0PqCLI5KMxx6",
        "colab": {
          "base_uri": "https://localhost:8080/"
        },
        "outputId": "95b15651-a7aa-4386-d1d4-db9173373d1f"
      },
      "execution_count": null,
      "outputs": [
        {
          "output_type": "stream",
          "name": "stderr",
          "text": [
            "/usr/local/lib/python3.11/dist-packages/keras/src/layers/core/dense.py:87: UserWarning: Do not pass an `input_shape`/`input_dim` argument to a layer. When using Sequential models, prefer using an `Input(shape)` object as the first layer in the model instead.\n",
            "  super().__init__(activity_regularizer=activity_regularizer, **kwargs)\n"
          ]
        }
      ]
    },
    {
      "cell_type": "code",
      "source": [
        "model.compile(optimizer='adam', loss='categorical_crossentropy', metrics=['accuracy'])\n",
        "model.fit(x_train, y_train, epochs=150, batch_size=32, validation_data=(x_test, y_test))\n",
        "t_loss,test_acc=model.evaluate(x_test,y_test)\n",
        "print('test_acc:%.2f'%(test_acc*100))"
      ],
      "metadata": {
        "colab": {
          "base_uri": "https://localhost:8080/"
        },
        "id": "TvsPl-cLM1T4",
        "outputId": "a230751d-3cc6-4432-dd80-044fb8101bde"
      },
      "execution_count": null,
      "outputs": [
        {
          "output_type": "stream",
          "name": "stdout",
          "text": [
            "Epoch 1/150\n",
            "\u001b[1m1/1\u001b[0m \u001b[32m━━━━━━━━━━━━━━━━━━━━\u001b[0m\u001b[37m\u001b[0m \u001b[1m2s\u001b[0m 2s/step - accuracy: 0.1667 - loss: 2.0488 - val_accuracy: 0.3800 - val_loss: 4.7816\n",
            "Epoch 2/150\n",
            "\u001b[1m1/1\u001b[0m \u001b[32m━━━━━━━━━━━━━━━━━━━━\u001b[0m\u001b[37m\u001b[0m \u001b[1m0s\u001b[0m 142ms/step - accuracy: 0.5556 - loss: 2.6490 - val_accuracy: 0.2200 - val_loss: 9.7923\n",
            "Epoch 3/150\n",
            "\u001b[1m1/1\u001b[0m \u001b[32m━━━━━━━━━━━━━━━━━━━━\u001b[0m\u001b[37m\u001b[0m \u001b[1m0s\u001b[0m 153ms/step - accuracy: 0.2222 - loss: 8.5530 - val_accuracy: 0.2000 - val_loss: 6.9414\n",
            "Epoch 4/150\n",
            "\u001b[1m1/1\u001b[0m \u001b[32m━━━━━━━━━━━━━━━━━━━━\u001b[0m\u001b[37m\u001b[0m \u001b[1m0s\u001b[0m 283ms/step - accuracy: 0.3333 - loss: 4.5735 - val_accuracy: 0.1800 - val_loss: 4.9213\n",
            "Epoch 5/150\n",
            "\u001b[1m1/1\u001b[0m \u001b[32m━━━━━━━━━━━━━━━━━━━━\u001b[0m\u001b[37m\u001b[0m \u001b[1m0s\u001b[0m 135ms/step - accuracy: 0.1111 - loss: 3.4619 - val_accuracy: 0.2000 - val_loss: 4.6272\n",
            "Epoch 6/150\n",
            "\u001b[1m1/1\u001b[0m \u001b[32m━━━━━━━━━━━━━━━━━━━━\u001b[0m\u001b[37m\u001b[0m \u001b[1m0s\u001b[0m 142ms/step - accuracy: 0.2778 - loss: 2.6066 - val_accuracy: 0.4000 - val_loss: 3.2025\n",
            "Epoch 7/150\n",
            "\u001b[1m1/1\u001b[0m \u001b[32m━━━━━━━━━━━━━━━━━━━━\u001b[0m\u001b[37m\u001b[0m \u001b[1m0s\u001b[0m 174ms/step - accuracy: 0.6111 - loss: 1.0931 - val_accuracy: 0.2800 - val_loss: 3.2978\n",
            "Epoch 8/150\n",
            "\u001b[1m1/1\u001b[0m \u001b[32m━━━━━━━━━━━━━━━━━━━━\u001b[0m\u001b[37m\u001b[0m \u001b[1m0s\u001b[0m 268ms/step - accuracy: 0.5000 - loss: 1.5273 - val_accuracy: 0.3200 - val_loss: 2.9556\n",
            "Epoch 9/150\n",
            "\u001b[1m1/1\u001b[0m \u001b[32m━━━━━━━━━━━━━━━━━━━━\u001b[0m\u001b[37m\u001b[0m \u001b[1m0s\u001b[0m 135ms/step - accuracy: 0.5556 - loss: 1.6003 - val_accuracy: 0.4200 - val_loss: 1.9888\n",
            "Epoch 10/150\n",
            "\u001b[1m1/1\u001b[0m \u001b[32m━━━━━━━━━━━━━━━━━━━━\u001b[0m\u001b[37m\u001b[0m \u001b[1m0s\u001b[0m 139ms/step - accuracy: 0.7222 - loss: 0.8744 - val_accuracy: 0.5000 - val_loss: 1.6566\n",
            "Epoch 11/150\n",
            "\u001b[1m1/1\u001b[0m \u001b[32m━━━━━━━━━━━━━━━━━━━━\u001b[0m\u001b[37m\u001b[0m \u001b[1m0s\u001b[0m 135ms/step - accuracy: 0.8889 - loss: 0.4821 - val_accuracy: 0.4000 - val_loss: 1.9990\n",
            "Epoch 12/150\n",
            "\u001b[1m1/1\u001b[0m \u001b[32m━━━━━━━━━━━━━━━━━━━━\u001b[0m\u001b[37m\u001b[0m \u001b[1m0s\u001b[0m 165ms/step - accuracy: 0.8333 - loss: 0.5681 - val_accuracy: 0.4600 - val_loss: 1.9468\n",
            "Epoch 13/150\n",
            "\u001b[1m1/1\u001b[0m \u001b[32m━━━━━━━━━━━━━━━━━━━━\u001b[0m\u001b[37m\u001b[0m \u001b[1m0s\u001b[0m 269ms/step - accuracy: 0.8889 - loss: 0.3969 - val_accuracy: 0.5200 - val_loss: 1.9254\n",
            "Epoch 14/150\n",
            "\u001b[1m1/1\u001b[0m \u001b[32m━━━━━━━━━━━━━━━━━━━━\u001b[0m\u001b[37m\u001b[0m \u001b[1m0s\u001b[0m 140ms/step - accuracy: 0.9444 - loss: 0.2473 - val_accuracy: 0.5400 - val_loss: 2.0135\n",
            "Epoch 15/150\n",
            "\u001b[1m1/1\u001b[0m \u001b[32m━━━━━━━━━━━━━━━━━━━━\u001b[0m\u001b[37m\u001b[0m \u001b[1m0s\u001b[0m 141ms/step - accuracy: 0.9444 - loss: 0.1861 - val_accuracy: 0.4600 - val_loss: 2.1176\n",
            "Epoch 16/150\n",
            "\u001b[1m1/1\u001b[0m \u001b[32m━━━━━━━━━━━━━━━━━━━━\u001b[0m\u001b[37m\u001b[0m \u001b[1m0s\u001b[0m 162ms/step - accuracy: 0.9444 - loss: 0.1855 - val_accuracy: 0.4600 - val_loss: 2.4428\n",
            "Epoch 17/150\n",
            "\u001b[1m1/1\u001b[0m \u001b[32m━━━━━━━━━━━━━━━━━━━━\u001b[0m\u001b[37m\u001b[0m \u001b[1m0s\u001b[0m 364ms/step - accuracy: 0.9444 - loss: 0.2385 - val_accuracy: 0.5000 - val_loss: 2.5632\n",
            "Epoch 18/150\n",
            "\u001b[1m1/1\u001b[0m \u001b[32m━━━━━━━━━━━━━━━━━━━━\u001b[0m\u001b[37m\u001b[0m \u001b[1m0s\u001b[0m 276ms/step - accuracy: 1.0000 - loss: 0.2133 - val_accuracy: 0.5000 - val_loss: 2.3822\n",
            "Epoch 19/150\n",
            "\u001b[1m1/1\u001b[0m \u001b[32m━━━━━━━━━━━━━━━━━━━━\u001b[0m\u001b[37m\u001b[0m \u001b[1m0s\u001b[0m 286ms/step - accuracy: 0.9444 - loss: 0.1087 - val_accuracy: 0.5400 - val_loss: 2.3058\n",
            "Epoch 20/150\n",
            "\u001b[1m1/1\u001b[0m \u001b[32m━━━━━━━━━━━━━━━━━━━━\u001b[0m\u001b[37m\u001b[0m \u001b[1m0s\u001b[0m 301ms/step - accuracy: 0.9444 - loss: 0.0673 - val_accuracy: 0.5600 - val_loss: 2.3529\n",
            "Epoch 21/150\n",
            "\u001b[1m1/1\u001b[0m \u001b[32m━━━━━━━━━━━━━━━━━━━━\u001b[0m\u001b[37m\u001b[0m \u001b[1m0s\u001b[0m 294ms/step - accuracy: 1.0000 - loss: 0.0466 - val_accuracy: 0.5600 - val_loss: 2.4553\n",
            "Epoch 22/150\n",
            "\u001b[1m1/1\u001b[0m \u001b[32m━━━━━━━━━━━━━━━━━━━━\u001b[0m\u001b[37m\u001b[0m \u001b[1m0s\u001b[0m 191ms/step - accuracy: 1.0000 - loss: 0.0327 - val_accuracy: 0.5400 - val_loss: 2.5549\n",
            "Epoch 23/150\n",
            "\u001b[1m1/1\u001b[0m \u001b[32m━━━━━━━━━━━━━━━━━━━━\u001b[0m\u001b[37m\u001b[0m \u001b[1m0s\u001b[0m 204ms/step - accuracy: 1.0000 - loss: 0.0301 - val_accuracy: 0.5400 - val_loss: 2.6011\n",
            "Epoch 24/150\n",
            "\u001b[1m1/1\u001b[0m \u001b[32m━━━━━━━━━━━━━━━━━━━━\u001b[0m\u001b[37m\u001b[0m \u001b[1m0s\u001b[0m 289ms/step - accuracy: 1.0000 - loss: 0.0335 - val_accuracy: 0.5400 - val_loss: 2.5637\n",
            "Epoch 25/150\n",
            "\u001b[1m1/1\u001b[0m \u001b[32m━━━━━━━━━━━━━━━━━━━━\u001b[0m\u001b[37m\u001b[0m \u001b[1m0s\u001b[0m 313ms/step - accuracy: 1.0000 - loss: 0.0315 - val_accuracy: 0.5200 - val_loss: 2.4496\n",
            "Epoch 26/150\n",
            "\u001b[1m1/1\u001b[0m \u001b[32m━━━━━━━━━━━━━━━━━━━━\u001b[0m\u001b[37m\u001b[0m \u001b[1m0s\u001b[0m 290ms/step - accuracy: 1.0000 - loss: 0.0228 - val_accuracy: 0.5200 - val_loss: 2.2935\n",
            "Epoch 27/150\n",
            "\u001b[1m1/1\u001b[0m \u001b[32m━━━━━━━━━━━━━━━━━━━━\u001b[0m\u001b[37m\u001b[0m \u001b[1m0s\u001b[0m 215ms/step - accuracy: 1.0000 - loss: 0.0148 - val_accuracy: 0.5200 - val_loss: 2.1342\n",
            "Epoch 28/150\n",
            "\u001b[1m1/1\u001b[0m \u001b[32m━━━━━━━━━━━━━━━━━━━━\u001b[0m\u001b[37m\u001b[0m \u001b[1m0s\u001b[0m 212ms/step - accuracy: 1.0000 - loss: 0.0107 - val_accuracy: 0.5000 - val_loss: 1.9987\n",
            "Epoch 29/150\n",
            "\u001b[1m1/1\u001b[0m \u001b[32m━━━━━━━━━━━━━━━━━━━━\u001b[0m\u001b[37m\u001b[0m \u001b[1m0s\u001b[0m 237ms/step - accuracy: 1.0000 - loss: 0.0090 - val_accuracy: 0.4800 - val_loss: 1.8943\n",
            "Epoch 30/150\n",
            "\u001b[1m1/1\u001b[0m \u001b[32m━━━━━━━━━━━━━━━━━━━━\u001b[0m\u001b[37m\u001b[0m \u001b[1m0s\u001b[0m 137ms/step - accuracy: 1.0000 - loss: 0.0080 - val_accuracy: 0.5000 - val_loss: 1.8161\n",
            "Epoch 31/150\n",
            "\u001b[1m1/1\u001b[0m \u001b[32m━━━━━━━━━━━━━━━━━━━━\u001b[0m\u001b[37m\u001b[0m \u001b[1m0s\u001b[0m 137ms/step - accuracy: 1.0000 - loss: 0.0071 - val_accuracy: 0.5200 - val_loss: 1.7607\n",
            "Epoch 32/150\n",
            "\u001b[1m1/1\u001b[0m \u001b[32m━━━━━━━━━━━━━━━━━━━━\u001b[0m\u001b[37m\u001b[0m \u001b[1m0s\u001b[0m 158ms/step - accuracy: 1.0000 - loss: 0.0063 - val_accuracy: 0.5200 - val_loss: 1.7257\n",
            "Epoch 33/150\n",
            "\u001b[1m1/1\u001b[0m \u001b[32m━━━━━━━━━━━━━━━━━━━━\u001b[0m\u001b[37m\u001b[0m \u001b[1m0s\u001b[0m 440ms/step - accuracy: 1.0000 - loss: 0.0057 - val_accuracy: 0.5200 - val_loss: 1.7088\n",
            "Epoch 34/150\n",
            "\u001b[1m1/1\u001b[0m \u001b[32m━━━━━━━━━━━━━━━━━━━━\u001b[0m\u001b[37m\u001b[0m \u001b[1m0s\u001b[0m 359ms/step - accuracy: 1.0000 - loss: 0.0053 - val_accuracy: 0.5400 - val_loss: 1.7067\n",
            "Epoch 35/150\n",
            "\u001b[1m1/1\u001b[0m \u001b[32m━━━━━━━━━━━━━━━━━━━━\u001b[0m\u001b[37m\u001b[0m \u001b[1m0s\u001b[0m 137ms/step - accuracy: 1.0000 - loss: 0.0052 - val_accuracy: 0.5400 - val_loss: 1.7138\n",
            "Epoch 36/150\n",
            "\u001b[1m1/1\u001b[0m \u001b[32m━━━━━━━━━━━━━━━━━━━━\u001b[0m\u001b[37m\u001b[0m \u001b[1m0s\u001b[0m 422ms/step - accuracy: 1.0000 - loss: 0.0052 - val_accuracy: 0.5200 - val_loss: 1.7232\n",
            "Epoch 37/150\n",
            "\u001b[1m1/1\u001b[0m \u001b[32m━━━━━━━━━━━━━━━━━━━━\u001b[0m\u001b[37m\u001b[0m \u001b[1m0s\u001b[0m 480ms/step - accuracy: 1.0000 - loss: 0.0054 - val_accuracy: 0.5000 - val_loss: 1.7351\n",
            "Epoch 38/150\n",
            "\u001b[1m1/1\u001b[0m \u001b[32m━━━━━━━━━━━━━━━━━━━━\u001b[0m\u001b[37m\u001b[0m \u001b[1m0s\u001b[0m 159ms/step - accuracy: 1.0000 - loss: 0.0056 - val_accuracy: 0.5000 - val_loss: 1.7489\n",
            "Epoch 39/150\n",
            "\u001b[1m1/1\u001b[0m \u001b[32m━━━━━━━━━━━━━━━━━━━━\u001b[0m\u001b[37m\u001b[0m \u001b[1m0s\u001b[0m 169ms/step - accuracy: 1.0000 - loss: 0.0057 - val_accuracy: 0.5000 - val_loss: 1.7630\n",
            "Epoch 40/150\n",
            "\u001b[1m1/1\u001b[0m \u001b[32m━━━━━━━━━━━━━━━━━━━━\u001b[0m\u001b[37m\u001b[0m \u001b[1m0s\u001b[0m 172ms/step - accuracy: 1.0000 - loss: 0.0057 - val_accuracy: 0.5000 - val_loss: 1.7762\n",
            "Epoch 41/150\n",
            "\u001b[1m1/1\u001b[0m \u001b[32m━━━━━━━━━━━━━━━━━━━━\u001b[0m\u001b[37m\u001b[0m \u001b[1m0s\u001b[0m 286ms/step - accuracy: 1.0000 - loss: 0.0055 - val_accuracy: 0.5000 - val_loss: 1.7878\n",
            "Epoch 42/150\n",
            "\u001b[1m1/1\u001b[0m \u001b[32m━━━━━━━━━━━━━━━━━━━━\u001b[0m\u001b[37m\u001b[0m \u001b[1m0s\u001b[0m 138ms/step - accuracy: 1.0000 - loss: 0.0052 - val_accuracy: 0.5000 - val_loss: 1.7975\n",
            "Epoch 43/150\n",
            "\u001b[1m1/1\u001b[0m \u001b[32m━━━━━━━━━━━━━━━━━━━━\u001b[0m\u001b[37m\u001b[0m \u001b[1m0s\u001b[0m 141ms/step - accuracy: 1.0000 - loss: 0.0048 - val_accuracy: 0.5200 - val_loss: 1.8061\n",
            "Epoch 44/150\n",
            "\u001b[1m1/1\u001b[0m \u001b[32m━━━━━━━━━━━━━━━━━━━━\u001b[0m\u001b[37m\u001b[0m \u001b[1m0s\u001b[0m 306ms/step - accuracy: 1.0000 - loss: 0.0044 - val_accuracy: 0.5200 - val_loss: 1.8140\n",
            "Epoch 45/150\n",
            "\u001b[1m1/1\u001b[0m \u001b[32m━━━━━━━━━━━━━━━━━━━━\u001b[0m\u001b[37m\u001b[0m \u001b[1m0s\u001b[0m 147ms/step - accuracy: 1.0000 - loss: 0.0040 - val_accuracy: 0.5200 - val_loss: 1.8211\n",
            "Epoch 46/150\n",
            "\u001b[1m1/1\u001b[0m \u001b[32m━━━━━━━━━━━━━━━━━━━━\u001b[0m\u001b[37m\u001b[0m \u001b[1m0s\u001b[0m 290ms/step - accuracy: 1.0000 - loss: 0.0036 - val_accuracy: 0.5200 - val_loss: 1.8281\n",
            "Epoch 47/150\n",
            "\u001b[1m1/1\u001b[0m \u001b[32m━━━━━━━━━━━━━━━━━━━━\u001b[0m\u001b[37m\u001b[0m \u001b[1m0s\u001b[0m 160ms/step - accuracy: 1.0000 - loss: 0.0032 - val_accuracy: 0.5200 - val_loss: 1.8350\n",
            "Epoch 48/150\n",
            "\u001b[1m1/1\u001b[0m \u001b[32m━━━━━━━━━━━━━━━━━━━━\u001b[0m\u001b[37m\u001b[0m \u001b[1m0s\u001b[0m 137ms/step - accuracy: 1.0000 - loss: 0.0029 - val_accuracy: 0.5400 - val_loss: 1.8422\n",
            "Epoch 49/150\n",
            "\u001b[1m1/1\u001b[0m \u001b[32m━━━━━━━━━━━━━━━━━━━━\u001b[0m\u001b[37m\u001b[0m \u001b[1m0s\u001b[0m 171ms/step - accuracy: 1.0000 - loss: 0.0026 - val_accuracy: 0.5200 - val_loss: 1.8499\n",
            "Epoch 50/150\n",
            "\u001b[1m1/1\u001b[0m \u001b[32m━━━━━━━━━━━━━━━━━━━━\u001b[0m\u001b[37m\u001b[0m \u001b[1m0s\u001b[0m 168ms/step - accuracy: 1.0000 - loss: 0.0024 - val_accuracy: 0.5200 - val_loss: 1.8578\n",
            "Epoch 51/150\n",
            "\u001b[1m1/1\u001b[0m \u001b[32m━━━━━━━━━━━━━━━━━━━━\u001b[0m\u001b[37m\u001b[0m \u001b[1m0s\u001b[0m 275ms/step - accuracy: 1.0000 - loss: 0.0022 - val_accuracy: 0.5200 - val_loss: 1.8666\n",
            "Epoch 52/150\n",
            "\u001b[1m1/1\u001b[0m \u001b[32m━━━━━━━━━━━━━━━━━━━━\u001b[0m\u001b[37m\u001b[0m \u001b[1m0s\u001b[0m 170ms/step - accuracy: 1.0000 - loss: 0.0020 - val_accuracy: 0.5200 - val_loss: 1.8759\n",
            "Epoch 53/150\n",
            "\u001b[1m1/1\u001b[0m \u001b[32m━━━━━━━━━━━━━━━━━━━━\u001b[0m\u001b[37m\u001b[0m \u001b[1m0s\u001b[0m 274ms/step - accuracy: 1.0000 - loss: 0.0019 - val_accuracy: 0.5200 - val_loss: 1.8857\n",
            "Epoch 54/150\n",
            "\u001b[1m1/1\u001b[0m \u001b[32m━━━━━━━━━━━━━━━━━━━━\u001b[0m\u001b[37m\u001b[0m \u001b[1m0s\u001b[0m 142ms/step - accuracy: 1.0000 - loss: 0.0017 - val_accuracy: 0.5200 - val_loss: 1.8959\n",
            "Epoch 55/150\n",
            "\u001b[1m1/1\u001b[0m \u001b[32m━━━━━━━━━━━━━━━━━━━━\u001b[0m\u001b[37m\u001b[0m \u001b[1m0s\u001b[0m 143ms/step - accuracy: 1.0000 - loss: 0.0016 - val_accuracy: 0.5200 - val_loss: 1.9065\n",
            "Epoch 56/150\n",
            "\u001b[1m1/1\u001b[0m \u001b[32m━━━━━━━━━━━━━━━━━━━━\u001b[0m\u001b[37m\u001b[0m \u001b[1m0s\u001b[0m 144ms/step - accuracy: 1.0000 - loss: 0.0016 - val_accuracy: 0.5200 - val_loss: 1.9174\n",
            "Epoch 57/150\n",
            "\u001b[1m1/1\u001b[0m \u001b[32m━━━━━━━━━━━━━━━━━━━━\u001b[0m\u001b[37m\u001b[0m \u001b[1m0s\u001b[0m 136ms/step - accuracy: 1.0000 - loss: 0.0015 - val_accuracy: 0.5200 - val_loss: 1.9284\n",
            "Epoch 58/150\n",
            "\u001b[1m1/1\u001b[0m \u001b[32m━━━━━━━━━━━━━━━━━━━━\u001b[0m\u001b[37m\u001b[0m \u001b[1m0s\u001b[0m 139ms/step - accuracy: 1.0000 - loss: 0.0014 - val_accuracy: 0.5200 - val_loss: 1.9396\n",
            "Epoch 59/150\n",
            "\u001b[1m1/1\u001b[0m \u001b[32m━━━━━━━━━━━━━━━━━━━━\u001b[0m\u001b[37m\u001b[0m \u001b[1m0s\u001b[0m 139ms/step - accuracy: 1.0000 - loss: 0.0014 - val_accuracy: 0.5200 - val_loss: 1.9509\n",
            "Epoch 60/150\n",
            "\u001b[1m1/1\u001b[0m \u001b[32m━━━━━━━━━━━━━━━━━━━━\u001b[0m\u001b[37m\u001b[0m \u001b[1m0s\u001b[0m 296ms/step - accuracy: 1.0000 - loss: 0.0013 - val_accuracy: 0.5200 - val_loss: 1.9622\n",
            "Epoch 61/150\n",
            "\u001b[1m1/1\u001b[0m \u001b[32m━━━━━━━━━━━━━━━━━━━━\u001b[0m\u001b[37m\u001b[0m \u001b[1m0s\u001b[0m 309ms/step - accuracy: 1.0000 - loss: 0.0013 - val_accuracy: 0.5000 - val_loss: 1.9734\n",
            "Epoch 62/150\n",
            "\u001b[1m1/1\u001b[0m \u001b[32m━━━━━━━━━━━━━━━━━━━━\u001b[0m\u001b[37m\u001b[0m \u001b[1m0s\u001b[0m 294ms/step - accuracy: 1.0000 - loss: 0.0012 - val_accuracy: 0.5000 - val_loss: 1.9845\n",
            "Epoch 63/150\n",
            "\u001b[1m1/1\u001b[0m \u001b[32m━━━━━━━━━━━━━━━━━━━━\u001b[0m\u001b[37m\u001b[0m \u001b[1m0s\u001b[0m 321ms/step - accuracy: 1.0000 - loss: 0.0012 - val_accuracy: 0.5000 - val_loss: 1.9952\n",
            "Epoch 64/150\n",
            "\u001b[1m1/1\u001b[0m \u001b[32m━━━━━━━━━━━━━━━━━━━━\u001b[0m\u001b[37m\u001b[0m \u001b[1m0s\u001b[0m 133ms/step - accuracy: 1.0000 - loss: 0.0011 - val_accuracy: 0.5000 - val_loss: 2.0057\n",
            "Epoch 65/150\n",
            "\u001b[1m1/1\u001b[0m \u001b[32m━━━━━━━━━━━━━━━━━━━━\u001b[0m\u001b[37m\u001b[0m \u001b[1m0s\u001b[0m 396ms/step - accuracy: 1.0000 - loss: 0.0011 - val_accuracy: 0.5000 - val_loss: 2.0160\n",
            "Epoch 66/150\n",
            "\u001b[1m1/1\u001b[0m \u001b[32m━━━━━━━━━━━━━━━━━━━━\u001b[0m\u001b[37m\u001b[0m \u001b[1m0s\u001b[0m 204ms/step - accuracy: 1.0000 - loss: 0.0011 - val_accuracy: 0.5000 - val_loss: 2.0260\n",
            "Epoch 67/150\n",
            "\u001b[1m1/1\u001b[0m \u001b[32m━━━━━━━━━━━━━━━━━━━━\u001b[0m\u001b[37m\u001b[0m \u001b[1m0s\u001b[0m 289ms/step - accuracy: 1.0000 - loss: 0.0011 - val_accuracy: 0.5000 - val_loss: 2.0357\n",
            "Epoch 68/150\n",
            "\u001b[1m1/1\u001b[0m \u001b[32m━━━━━━━━━━━━━━━━━━━━\u001b[0m\u001b[37m\u001b[0m \u001b[1m0s\u001b[0m 260ms/step - accuracy: 1.0000 - loss: 0.0010 - val_accuracy: 0.4800 - val_loss: 2.0448\n",
            "Epoch 69/150\n",
            "\u001b[1m1/1\u001b[0m \u001b[32m━━━━━━━━━━━━━━━━━━━━\u001b[0m\u001b[37m\u001b[0m \u001b[1m0s\u001b[0m 151ms/step - accuracy: 1.0000 - loss: 0.0010 - val_accuracy: 0.4800 - val_loss: 2.0535\n",
            "Epoch 70/150\n",
            "\u001b[1m1/1\u001b[0m \u001b[32m━━━━━━━━━━━━━━━━━━━━\u001b[0m\u001b[37m\u001b[0m \u001b[1m0s\u001b[0m 136ms/step - accuracy: 1.0000 - loss: 0.0010 - val_accuracy: 0.4800 - val_loss: 2.0616\n",
            "Epoch 71/150\n",
            "\u001b[1m1/1\u001b[0m \u001b[32m━━━━━━━━━━━━━━━━━━━━\u001b[0m\u001b[37m\u001b[0m \u001b[1m0s\u001b[0m 137ms/step - accuracy: 1.0000 - loss: 9.8693e-04 - val_accuracy: 0.4800 - val_loss: 2.0691\n",
            "Epoch 72/150\n",
            "\u001b[1m1/1\u001b[0m \u001b[32m━━━━━━━━━━━━━━━━━━━━\u001b[0m\u001b[37m\u001b[0m \u001b[1m0s\u001b[0m 148ms/step - accuracy: 1.0000 - loss: 9.7241e-04 - val_accuracy: 0.4800 - val_loss: 2.0761\n",
            "Epoch 73/150\n",
            "\u001b[1m1/1\u001b[0m \u001b[32m━━━━━━━━━━━━━━━━━━━━\u001b[0m\u001b[37m\u001b[0m \u001b[1m0s\u001b[0m 147ms/step - accuracy: 1.0000 - loss: 9.5789e-04 - val_accuracy: 0.4800 - val_loss: 2.0825\n",
            "Epoch 74/150\n",
            "\u001b[1m1/1\u001b[0m \u001b[32m━━━━━━━━━━━━━━━━━━━━\u001b[0m\u001b[37m\u001b[0m \u001b[1m0s\u001b[0m 207ms/step - accuracy: 1.0000 - loss: 9.4390e-04 - val_accuracy: 0.4800 - val_loss: 2.0883\n",
            "Epoch 75/150\n",
            "\u001b[1m1/1\u001b[0m \u001b[32m━━━━━━━━━━━━━━━━━━━━\u001b[0m\u001b[37m\u001b[0m \u001b[1m0s\u001b[0m 221ms/step - accuracy: 1.0000 - loss: 9.3050e-04 - val_accuracy: 0.4800 - val_loss: 2.0935\n",
            "Epoch 76/150\n",
            "\u001b[1m1/1\u001b[0m \u001b[32m━━━━━━━━━━━━━━━━━━━━\u001b[0m\u001b[37m\u001b[0m \u001b[1m0s\u001b[0m 208ms/step - accuracy: 1.0000 - loss: 9.1743e-04 - val_accuracy: 0.4800 - val_loss: 2.0982\n",
            "Epoch 77/150\n",
            "\u001b[1m1/1\u001b[0m \u001b[32m━━━━━━━━━━━━━━━━━━━━\u001b[0m\u001b[37m\u001b[0m \u001b[1m0s\u001b[0m 197ms/step - accuracy: 1.0000 - loss: 9.0460e-04 - val_accuracy: 0.4800 - val_loss: 2.1023\n",
            "Epoch 78/150\n",
            "\u001b[1m1/1\u001b[0m \u001b[32m━━━━━━━━━━━━━━━━━━━━\u001b[0m\u001b[37m\u001b[0m \u001b[1m0s\u001b[0m 311ms/step - accuracy: 1.0000 - loss: 8.9195e-04 - val_accuracy: 0.4800 - val_loss: 2.1060\n",
            "Epoch 79/150\n",
            "\u001b[1m1/1\u001b[0m \u001b[32m━━━━━━━━━━━━━━━━━━━━\u001b[0m\u001b[37m\u001b[0m \u001b[1m0s\u001b[0m 227ms/step - accuracy: 1.0000 - loss: 8.7948e-04 - val_accuracy: 0.4800 - val_loss: 2.1091\n",
            "Epoch 80/150\n",
            "\u001b[1m1/1\u001b[0m \u001b[32m━━━━━━━━━━━━━━━━━━━━\u001b[0m\u001b[37m\u001b[0m \u001b[1m0s\u001b[0m 267ms/step - accuracy: 1.0000 - loss: 8.6722e-04 - val_accuracy: 0.4800 - val_loss: 2.1119\n",
            "Epoch 81/150\n",
            "\u001b[1m1/1\u001b[0m \u001b[32m━━━━━━━━━━━━━━━━━━━━\u001b[0m\u001b[37m\u001b[0m \u001b[1m0s\u001b[0m 218ms/step - accuracy: 1.0000 - loss: 8.5534e-04 - val_accuracy: 0.4800 - val_loss: 2.1142\n",
            "Epoch 82/150\n",
            "\u001b[1m1/1\u001b[0m \u001b[32m━━━━━━━━━━━━━━━━━━━━\u001b[0m\u001b[37m\u001b[0m \u001b[1m0s\u001b[0m 205ms/step - accuracy: 1.0000 - loss: 8.4369e-04 - val_accuracy: 0.4800 - val_loss: 2.1163\n",
            "Epoch 83/150\n",
            "\u001b[1m1/1\u001b[0m \u001b[32m━━━━━━━━━━━━━━━━━━━━\u001b[0m\u001b[37m\u001b[0m \u001b[1m0s\u001b[0m 202ms/step - accuracy: 1.0000 - loss: 8.3226e-04 - val_accuracy: 0.4800 - val_loss: 2.1180\n",
            "Epoch 84/150\n",
            "\u001b[1m1/1\u001b[0m \u001b[32m━━━━━━━━━━━━━━━━━━━━\u001b[0m\u001b[37m\u001b[0m \u001b[1m0s\u001b[0m 299ms/step - accuracy: 1.0000 - loss: 8.2115e-04 - val_accuracy: 0.4800 - val_loss: 2.1195\n",
            "Epoch 85/150\n",
            "\u001b[1m1/1\u001b[0m \u001b[32m━━━━━━━━━━━━━━━━━━━━\u001b[0m\u001b[37m\u001b[0m \u001b[1m0s\u001b[0m 299ms/step - accuracy: 1.0000 - loss: 8.1039e-04 - val_accuracy: 0.4800 - val_loss: 2.1208\n",
            "Epoch 86/150\n",
            "\u001b[1m1/1\u001b[0m \u001b[32m━━━━━━━━━━━━━━━━━━━━\u001b[0m\u001b[37m\u001b[0m \u001b[1m0s\u001b[0m 306ms/step - accuracy: 1.0000 - loss: 8.0026e-04 - val_accuracy: 0.4800 - val_loss: 2.1219\n",
            "Epoch 87/150\n",
            "\u001b[1m1/1\u001b[0m \u001b[32m━━━━━━━━━━━━━━━━━━━━\u001b[0m\u001b[37m\u001b[0m \u001b[1m0s\u001b[0m 310ms/step - accuracy: 1.0000 - loss: 7.9087e-04 - val_accuracy: 0.4800 - val_loss: 2.1228\n",
            "Epoch 88/150\n",
            "\u001b[1m1/1\u001b[0m \u001b[32m━━━━━━━━━━━━━━━━━━━━\u001b[0m\u001b[37m\u001b[0m \u001b[1m0s\u001b[0m 180ms/step - accuracy: 1.0000 - loss: 7.8197e-04 - val_accuracy: 0.4800 - val_loss: 2.1237\n",
            "Epoch 89/150\n",
            "\u001b[1m1/1\u001b[0m \u001b[32m━━━━━━━━━━━━━━━━━━━━\u001b[0m\u001b[37m\u001b[0m \u001b[1m0s\u001b[0m 131ms/step - accuracy: 1.0000 - loss: 7.7345e-04 - val_accuracy: 0.4800 - val_loss: 2.1245\n",
            "Epoch 90/150\n",
            "\u001b[1m1/1\u001b[0m \u001b[32m━━━━━━━━━━━━━━━━━━━━\u001b[0m\u001b[37m\u001b[0m \u001b[1m0s\u001b[0m 140ms/step - accuracy: 1.0000 - loss: 7.6529e-04 - val_accuracy: 0.4800 - val_loss: 2.1251\n",
            "Epoch 91/150\n",
            "\u001b[1m1/1\u001b[0m \u001b[32m━━━━━━━━━━━━━━━━━━━━\u001b[0m\u001b[37m\u001b[0m \u001b[1m0s\u001b[0m 135ms/step - accuracy: 1.0000 - loss: 7.5746e-04 - val_accuracy: 0.4800 - val_loss: 2.1258\n",
            "Epoch 92/150\n",
            "\u001b[1m1/1\u001b[0m \u001b[32m━━━━━━━━━━━━━━━━━━━━\u001b[0m\u001b[37m\u001b[0m \u001b[1m0s\u001b[0m 134ms/step - accuracy: 1.0000 - loss: 7.4992e-04 - val_accuracy: 0.4800 - val_loss: 2.1264\n",
            "Epoch 93/150\n",
            "\u001b[1m1/1\u001b[0m \u001b[32m━━━━━━━━━━━━━━━━━━━━\u001b[0m\u001b[37m\u001b[0m \u001b[1m0s\u001b[0m 148ms/step - accuracy: 1.0000 - loss: 7.4288e-04 - val_accuracy: 0.4800 - val_loss: 2.1270\n",
            "Epoch 94/150\n",
            "\u001b[1m1/1\u001b[0m \u001b[32m━━━━━━━━━━━━━━━━━━━━\u001b[0m\u001b[37m\u001b[0m \u001b[1m0s\u001b[0m 290ms/step - accuracy: 1.0000 - loss: 7.3616e-04 - val_accuracy: 0.4800 - val_loss: 2.1277\n",
            "Epoch 95/150\n",
            "\u001b[1m1/1\u001b[0m \u001b[32m━━━━━━━━━━━━━━━━━━━━\u001b[0m\u001b[37m\u001b[0m \u001b[1m0s\u001b[0m 137ms/step - accuracy: 1.0000 - loss: 7.2964e-04 - val_accuracy: 0.4800 - val_loss: 2.1283\n",
            "Epoch 96/150\n",
            "\u001b[1m1/1\u001b[0m \u001b[32m━━━━━━━━━━━━━━━━━━━━\u001b[0m\u001b[37m\u001b[0m \u001b[1m0s\u001b[0m 163ms/step - accuracy: 1.0000 - loss: 7.2329e-04 - val_accuracy: 0.4800 - val_loss: 2.1290\n",
            "Epoch 97/150\n",
            "\u001b[1m1/1\u001b[0m \u001b[32m━━━━━━━━━━━━━━━━━━━━\u001b[0m\u001b[37m\u001b[0m \u001b[1m0s\u001b[0m 271ms/step - accuracy: 1.0000 - loss: 7.1735e-04 - val_accuracy: 0.4800 - val_loss: 2.1298\n",
            "Epoch 98/150\n",
            "\u001b[1m1/1\u001b[0m \u001b[32m━━━━━━━━━━━━━━━━━━━━\u001b[0m\u001b[37m\u001b[0m \u001b[1m0s\u001b[0m 135ms/step - accuracy: 1.0000 - loss: 7.1168e-04 - val_accuracy: 0.4800 - val_loss: 2.1307\n",
            "Epoch 99/150\n",
            "\u001b[1m1/1\u001b[0m \u001b[32m━━━━━━━━━━━━━━━━━━━━\u001b[0m\u001b[37m\u001b[0m \u001b[1m0s\u001b[0m 302ms/step - accuracy: 1.0000 - loss: 7.0611e-04 - val_accuracy: 0.4800 - val_loss: 2.1316\n",
            "Epoch 100/150\n",
            "\u001b[1m1/1\u001b[0m \u001b[32m━━━━━━━━━━━━━━━━━━━━\u001b[0m\u001b[37m\u001b[0m \u001b[1m0s\u001b[0m 307ms/step - accuracy: 1.0000 - loss: 7.0072e-04 - val_accuracy: 0.4800 - val_loss: 2.1326\n",
            "Epoch 101/150\n",
            "\u001b[1m1/1\u001b[0m \u001b[32m━━━━━━━━━━━━━━━━━━━━\u001b[0m\u001b[37m\u001b[0m \u001b[1m0s\u001b[0m 147ms/step - accuracy: 1.0000 - loss: 6.9554e-04 - val_accuracy: 0.4800 - val_loss: 2.1337\n",
            "Epoch 102/150\n",
            "\u001b[1m1/1\u001b[0m \u001b[32m━━━━━━━━━━━━━━━━━━━━\u001b[0m\u001b[37m\u001b[0m \u001b[1m0s\u001b[0m 295ms/step - accuracy: 1.0000 - loss: 6.9051e-04 - val_accuracy: 0.4800 - val_loss: 2.1348\n",
            "Epoch 103/150\n",
            "\u001b[1m1/1\u001b[0m \u001b[32m━━━━━━━━━━━━━━━━━━━━\u001b[0m\u001b[37m\u001b[0m \u001b[1m0s\u001b[0m 297ms/step - accuracy: 1.0000 - loss: 6.8561e-04 - val_accuracy: 0.4800 - val_loss: 2.1360\n",
            "Epoch 104/150\n",
            "\u001b[1m1/1\u001b[0m \u001b[32m━━━━━━━━━━━━━━━━━━━━\u001b[0m\u001b[37m\u001b[0m \u001b[1m0s\u001b[0m 295ms/step - accuracy: 1.0000 - loss: 6.8079e-04 - val_accuracy: 0.4800 - val_loss: 2.1373\n",
            "Epoch 105/150\n",
            "\u001b[1m1/1\u001b[0m \u001b[32m━━━━━━━━━━━━━━━━━━━━\u001b[0m\u001b[37m\u001b[0m \u001b[1m0s\u001b[0m 137ms/step - accuracy: 1.0000 - loss: 6.7611e-04 - val_accuracy: 0.4800 - val_loss: 2.1386\n",
            "Epoch 106/150\n",
            "\u001b[1m1/1\u001b[0m \u001b[32m━━━━━━━━━━━━━━━━━━━━\u001b[0m\u001b[37m\u001b[0m \u001b[1m0s\u001b[0m 142ms/step - accuracy: 1.0000 - loss: 6.7154e-04 - val_accuracy: 0.4800 - val_loss: 2.1400\n",
            "Epoch 107/150\n",
            "\u001b[1m1/1\u001b[0m \u001b[32m━━━━━━━━━━━━━━━━━━━━\u001b[0m\u001b[37m\u001b[0m \u001b[1m0s\u001b[0m 168ms/step - accuracy: 1.0000 - loss: 6.6712e-04 - val_accuracy: 0.4800 - val_loss: 2.1414\n",
            "Epoch 108/150\n",
            "\u001b[1m1/1\u001b[0m \u001b[32m━━━━━━━━━━━━━━━━━━━━\u001b[0m\u001b[37m\u001b[0m \u001b[1m0s\u001b[0m 268ms/step - accuracy: 1.0000 - loss: 6.6278e-04 - val_accuracy: 0.4800 - val_loss: 2.1428\n",
            "Epoch 109/150\n",
            "\u001b[1m1/1\u001b[0m \u001b[32m━━━━━━━━━━━━━━━━━━━━\u001b[0m\u001b[37m\u001b[0m \u001b[1m0s\u001b[0m 168ms/step - accuracy: 1.0000 - loss: 6.5851e-04 - val_accuracy: 0.4800 - val_loss: 2.1442\n",
            "Epoch 110/150\n",
            "\u001b[1m1/1\u001b[0m \u001b[32m━━━━━━━━━━━━━━━━━━━━\u001b[0m\u001b[37m\u001b[0m \u001b[1m0s\u001b[0m 138ms/step - accuracy: 1.0000 - loss: 6.5426e-04 - val_accuracy: 0.4800 - val_loss: 2.1456\n",
            "Epoch 111/150\n",
            "\u001b[1m1/1\u001b[0m \u001b[32m━━━━━━━━━━━━━━━━━━━━\u001b[0m\u001b[37m\u001b[0m \u001b[1m0s\u001b[0m 293ms/step - accuracy: 1.0000 - loss: 6.5013e-04 - val_accuracy: 0.4800 - val_loss: 2.1470\n",
            "Epoch 112/150\n",
            "\u001b[1m1/1\u001b[0m \u001b[32m━━━━━━━━━━━━━━━━━━━━\u001b[0m\u001b[37m\u001b[0m \u001b[1m0s\u001b[0m 146ms/step - accuracy: 1.0000 - loss: 6.4603e-04 - val_accuracy: 0.4800 - val_loss: 2.1485\n",
            "Epoch 113/150\n",
            "\u001b[1m1/1\u001b[0m \u001b[32m━━━━━━━━━━━━━━━━━━━━\u001b[0m\u001b[37m\u001b[0m \u001b[1m0s\u001b[0m 293ms/step - accuracy: 1.0000 - loss: 6.4198e-04 - val_accuracy: 0.4800 - val_loss: 2.1500\n",
            "Epoch 114/150\n",
            "\u001b[1m1/1\u001b[0m \u001b[32m━━━━━━━━━━━━━━━━━━━━\u001b[0m\u001b[37m\u001b[0m \u001b[1m0s\u001b[0m 137ms/step - accuracy: 1.0000 - loss: 6.3799e-04 - val_accuracy: 0.4800 - val_loss: 2.1514\n",
            "Epoch 115/150\n",
            "\u001b[1m1/1\u001b[0m \u001b[32m━━━━━━━━━━━━━━━━━━━━\u001b[0m\u001b[37m\u001b[0m \u001b[1m0s\u001b[0m 135ms/step - accuracy: 1.0000 - loss: 6.3405e-04 - val_accuracy: 0.4800 - val_loss: 2.1529\n",
            "Epoch 116/150\n",
            "\u001b[1m1/1\u001b[0m \u001b[32m━━━━━━━━━━━━━━━━━━━━\u001b[0m\u001b[37m\u001b[0m \u001b[1m0s\u001b[0m 133ms/step - accuracy: 1.0000 - loss: 6.3015e-04 - val_accuracy: 0.4800 - val_loss: 2.1544\n",
            "Epoch 117/150\n",
            "\u001b[1m1/1\u001b[0m \u001b[32m━━━━━━━━━━━━━━━━━━━━\u001b[0m\u001b[37m\u001b[0m \u001b[1m0s\u001b[0m 139ms/step - accuracy: 1.0000 - loss: 6.2630e-04 - val_accuracy: 0.4800 - val_loss: 2.1558\n",
            "Epoch 118/150\n",
            "\u001b[1m1/1\u001b[0m \u001b[32m━━━━━━━━━━━━━━━━━━━━\u001b[0m\u001b[37m\u001b[0m \u001b[1m0s\u001b[0m 153ms/step - accuracy: 1.0000 - loss: 6.2251e-04 - val_accuracy: 0.4800 - val_loss: 2.1572\n",
            "Epoch 119/150\n",
            "\u001b[1m1/1\u001b[0m \u001b[32m━━━━━━━━━━━━━━━━━━━━\u001b[0m\u001b[37m\u001b[0m \u001b[1m0s\u001b[0m 293ms/step - accuracy: 1.0000 - loss: 6.1878e-04 - val_accuracy: 0.4800 - val_loss: 2.1586\n",
            "Epoch 120/150\n",
            "\u001b[1m1/1\u001b[0m \u001b[32m━━━━━━━━━━━━━━━━━━━━\u001b[0m\u001b[37m\u001b[0m \u001b[1m0s\u001b[0m 296ms/step - accuracy: 1.0000 - loss: 6.1516e-04 - val_accuracy: 0.4800 - val_loss: 2.1600\n",
            "Epoch 121/150\n",
            "\u001b[1m1/1\u001b[0m \u001b[32m━━━━━━━━━━━━━━━━━━━━\u001b[0m\u001b[37m\u001b[0m \u001b[1m0s\u001b[0m 135ms/step - accuracy: 1.0000 - loss: 6.1150e-04 - val_accuracy: 0.4800 - val_loss: 2.1613\n",
            "Epoch 122/150\n",
            "\u001b[1m1/1\u001b[0m \u001b[32m━━━━━━━━━━━━━━━━━━━━\u001b[0m\u001b[37m\u001b[0m \u001b[1m0s\u001b[0m 141ms/step - accuracy: 1.0000 - loss: 6.0792e-04 - val_accuracy: 0.4800 - val_loss: 2.1627\n",
            "Epoch 123/150\n",
            "\u001b[1m1/1\u001b[0m \u001b[32m━━━━━━━━━━━━━━━━━━━━\u001b[0m\u001b[37m\u001b[0m \u001b[1m0s\u001b[0m 176ms/step - accuracy: 1.0000 - loss: 6.0437e-04 - val_accuracy: 0.4800 - val_loss: 2.1641\n",
            "Epoch 124/150\n",
            "\u001b[1m1/1\u001b[0m \u001b[32m━━━━━━━━━━━━━━━━━━━━\u001b[0m\u001b[37m\u001b[0m \u001b[1m0s\u001b[0m 262ms/step - accuracy: 1.0000 - loss: 6.0083e-04 - val_accuracy: 0.4800 - val_loss: 2.1654\n",
            "Epoch 125/150\n",
            "\u001b[1m1/1\u001b[0m \u001b[32m━━━━━━━━━━━━━━━━━━━━\u001b[0m\u001b[37m\u001b[0m \u001b[1m0s\u001b[0m 142ms/step - accuracy: 1.0000 - loss: 5.9736e-04 - val_accuracy: 0.4800 - val_loss: 2.1667\n",
            "Epoch 126/150\n",
            "\u001b[1m1/1\u001b[0m \u001b[32m━━━━━━━━━━━━━━━━━━━━\u001b[0m\u001b[37m\u001b[0m \u001b[1m0s\u001b[0m 134ms/step - accuracy: 1.0000 - loss: 5.9393e-04 - val_accuracy: 0.4800 - val_loss: 2.1680\n",
            "Epoch 127/150\n",
            "\u001b[1m1/1\u001b[0m \u001b[32m━━━━━━━━━━━━━━━━━━━━\u001b[0m\u001b[37m\u001b[0m \u001b[1m0s\u001b[0m 300ms/step - accuracy: 1.0000 - loss: 5.9053e-04 - val_accuracy: 0.4800 - val_loss: 2.1692\n",
            "Epoch 128/150\n",
            "\u001b[1m1/1\u001b[0m \u001b[32m━━━━━━━━━━━━━━━━━━━━\u001b[0m\u001b[37m\u001b[0m \u001b[1m0s\u001b[0m 159ms/step - accuracy: 1.0000 - loss: 5.8716e-04 - val_accuracy: 0.4800 - val_loss: 2.1704\n",
            "Epoch 129/150\n",
            "\u001b[1m1/1\u001b[0m \u001b[32m━━━━━━━━━━━━━━━━━━━━\u001b[0m\u001b[37m\u001b[0m \u001b[1m0s\u001b[0m 155ms/step - accuracy: 1.0000 - loss: 5.8382e-04 - val_accuracy: 0.4800 - val_loss: 2.1715\n",
            "Epoch 130/150\n",
            "\u001b[1m1/1\u001b[0m \u001b[32m━━━━━━━━━━━━━━━━━━━━\u001b[0m\u001b[37m\u001b[0m \u001b[1m0s\u001b[0m 149ms/step - accuracy: 1.0000 - loss: 5.8056e-04 - val_accuracy: 0.4800 - val_loss: 2.1727\n",
            "Epoch 131/150\n",
            "\u001b[1m1/1\u001b[0m \u001b[32m━━━━━━━━━━━━━━━━━━━━\u001b[0m\u001b[37m\u001b[0m \u001b[1m0s\u001b[0m 139ms/step - accuracy: 1.0000 - loss: 5.7735e-04 - val_accuracy: 0.4800 - val_loss: 2.1738\n",
            "Epoch 132/150\n",
            "\u001b[1m1/1\u001b[0m \u001b[32m━━━━━━━━━━━━━━━━━━━━\u001b[0m\u001b[37m\u001b[0m \u001b[1m0s\u001b[0m 180ms/step - accuracy: 1.0000 - loss: 5.7417e-04 - val_accuracy: 0.4800 - val_loss: 2.1749\n",
            "Epoch 133/150\n",
            "\u001b[1m1/1\u001b[0m \u001b[32m━━━━━━━━━━━━━━━━━━━━\u001b[0m\u001b[37m\u001b[0m \u001b[1m0s\u001b[0m 147ms/step - accuracy: 1.0000 - loss: 5.7099e-04 - val_accuracy: 0.4800 - val_loss: 2.1760\n",
            "Epoch 134/150\n",
            "\u001b[1m1/1\u001b[0m \u001b[32m━━━━━━━━━━━━━━━━━━━━\u001b[0m\u001b[37m\u001b[0m \u001b[1m0s\u001b[0m 154ms/step - accuracy: 1.0000 - loss: 5.6786e-04 - val_accuracy: 0.4800 - val_loss: 2.1771\n",
            "Epoch 135/150\n",
            "\u001b[1m1/1\u001b[0m \u001b[32m━━━━━━━━━━━━━━━━━━━━\u001b[0m\u001b[37m\u001b[0m \u001b[1m0s\u001b[0m 137ms/step - accuracy: 1.0000 - loss: 5.6476e-04 - val_accuracy: 0.4800 - val_loss: 2.1781\n",
            "Epoch 136/150\n",
            "\u001b[1m1/1\u001b[0m \u001b[32m━━━━━━━━━━━━━━━━━━━━\u001b[0m\u001b[37m\u001b[0m \u001b[1m0s\u001b[0m 134ms/step - accuracy: 1.0000 - loss: 5.6169e-04 - val_accuracy: 0.4800 - val_loss: 2.1792\n",
            "Epoch 137/150\n",
            "\u001b[1m1/1\u001b[0m \u001b[32m━━━━━━━━━━━━━━━━━━━━\u001b[0m\u001b[37m\u001b[0m \u001b[1m0s\u001b[0m 150ms/step - accuracy: 1.0000 - loss: 5.5862e-04 - val_accuracy: 0.4800 - val_loss: 2.1803\n",
            "Epoch 138/150\n",
            "\u001b[1m1/1\u001b[0m \u001b[32m━━━━━━━━━━━━━━━━━━━━\u001b[0m\u001b[37m\u001b[0m \u001b[1m0s\u001b[0m 135ms/step - accuracy: 1.0000 - loss: 5.5558e-04 - val_accuracy: 0.4800 - val_loss: 2.1813\n",
            "Epoch 139/150\n",
            "\u001b[1m1/1\u001b[0m \u001b[32m━━━━━━━━━━━━━━━━━━━━\u001b[0m\u001b[37m\u001b[0m \u001b[1m0s\u001b[0m 138ms/step - accuracy: 1.0000 - loss: 5.5261e-04 - val_accuracy: 0.4800 - val_loss: 2.1823\n",
            "Epoch 140/150\n",
            "\u001b[1m1/1\u001b[0m \u001b[32m━━━━━━━━━━━━━━━━━━━━\u001b[0m\u001b[37m\u001b[0m \u001b[1m0s\u001b[0m 130ms/step - accuracy: 1.0000 - loss: 5.4962e-04 - val_accuracy: 0.4800 - val_loss: 2.1833\n",
            "Epoch 141/150\n",
            "\u001b[1m1/1\u001b[0m \u001b[32m━━━━━━━━━━━━━━━━━━━━\u001b[0m\u001b[37m\u001b[0m \u001b[1m0s\u001b[0m 170ms/step - accuracy: 1.0000 - loss: 5.4669e-04 - val_accuracy: 0.4800 - val_loss: 2.1844\n",
            "Epoch 142/150\n",
            "\u001b[1m1/1\u001b[0m \u001b[32m━━━━━━━━━━━━━━━━━━━━\u001b[0m\u001b[37m\u001b[0m \u001b[1m0s\u001b[0m 237ms/step - accuracy: 1.0000 - loss: 5.4379e-04 - val_accuracy: 0.4800 - val_loss: 2.1854\n",
            "Epoch 143/150\n",
            "\u001b[1m1/1\u001b[0m \u001b[32m━━━━━━━━━━━━━━━━━━━━\u001b[0m\u001b[37m\u001b[0m \u001b[1m0s\u001b[0m 211ms/step - accuracy: 1.0000 - loss: 5.4090e-04 - val_accuracy: 0.4800 - val_loss: 2.1864\n",
            "Epoch 144/150\n",
            "\u001b[1m1/1\u001b[0m \u001b[32m━━━━━━━━━━━━━━━━━━━━\u001b[0m\u001b[37m\u001b[0m \u001b[1m0s\u001b[0m 210ms/step - accuracy: 1.0000 - loss: 5.3806e-04 - val_accuracy: 0.4800 - val_loss: 2.1874\n",
            "Epoch 145/150\n",
            "\u001b[1m1/1\u001b[0m \u001b[32m━━━━━━━━━━━━━━━━━━━━\u001b[0m\u001b[37m\u001b[0m \u001b[1m0s\u001b[0m 290ms/step - accuracy: 1.0000 - loss: 5.3522e-04 - val_accuracy: 0.4800 - val_loss: 2.1884\n",
            "Epoch 146/150\n",
            "\u001b[1m1/1\u001b[0m \u001b[32m━━━━━━━━━━━━━━━━━━━━\u001b[0m\u001b[37m\u001b[0m \u001b[1m0s\u001b[0m 396ms/step - accuracy: 1.0000 - loss: 5.3241e-04 - val_accuracy: 0.4800 - val_loss: 2.1894\n",
            "Epoch 147/150\n",
            "\u001b[1m1/1\u001b[0m \u001b[32m━━━━━━━━━━━━━━━━━━━━\u001b[0m\u001b[37m\u001b[0m \u001b[1m0s\u001b[0m 225ms/step - accuracy: 1.0000 - loss: 5.2962e-04 - val_accuracy: 0.4800 - val_loss: 2.1905\n",
            "Epoch 148/150\n",
            "\u001b[1m1/1\u001b[0m \u001b[32m━━━━━━━━━━━━━━━━━━━━\u001b[0m\u001b[37m\u001b[0m \u001b[1m0s\u001b[0m 275ms/step - accuracy: 1.0000 - loss: 5.2687e-04 - val_accuracy: 0.4800 - val_loss: 2.1915\n",
            "Epoch 149/150\n",
            "\u001b[1m1/1\u001b[0m \u001b[32m━━━━━━━━━━━━━━━━━━━━\u001b[0m\u001b[37m\u001b[0m \u001b[1m0s\u001b[0m 198ms/step - accuracy: 1.0000 - loss: 5.2415e-04 - val_accuracy: 0.4800 - val_loss: 2.1925\n",
            "Epoch 150/150\n",
            "\u001b[1m1/1\u001b[0m \u001b[32m━━━━━━━━━━━━━━━━━━━━\u001b[0m\u001b[37m\u001b[0m \u001b[1m0s\u001b[0m 207ms/step - accuracy: 1.0000 - loss: 5.2141e-04 - val_accuracy: 0.4800 - val_loss: 2.1935\n",
            "\u001b[1m2/2\u001b[0m \u001b[32m━━━━━━━━━━━━━━━━━━━━\u001b[0m\u001b[37m\u001b[0m \u001b[1m0s\u001b[0m 42ms/step - accuracy: 0.4137 - loss: 2.5616\n",
            "test_acc:48.00\n"
          ]
        }
      ]
    },
    {
      "cell_type": "code",
      "source": [
        "img = load_img('/content/CÁC MÓN ĂN VIET NAM/BÁNH CANH/110.jpg', target_size=(60, 60))\n",
        "plt.imshow(img)\n",
        "img = img_to_array(img)\n",
        "img_flatten = img.reshape(1, 60 * 60 * 3)\n",
        "img_flatten = img_flatten.astype('float32') / 255\n",
        "y_pred_prob = model.predict(img_flatten)\n",
        "predicted_class_index = int(np.argmax(y_pred_prob))\n",
        "class_labels = list(generator.class_indices.keys())\n",
        "print(\"TIEN DOAN:\", class_labels[predicted_class_index])"
      ],
      "metadata": {
        "colab": {
          "base_uri": "https://localhost:8080/",
          "height": 467
        },
        "id": "GiS7OT9eotAN",
        "outputId": "1a12b4aa-25d1-476b-faec-8e698cb5cedc"
      },
      "execution_count": null,
      "outputs": [
        {
          "output_type": "stream",
          "name": "stdout",
          "text": [
            "\u001b[1m1/1\u001b[0m \u001b[32m━━━━━━━━━━━━━━━━━━━━\u001b[0m\u001b[37m\u001b[0m \u001b[1m0s\u001b[0m 117ms/step\n",
            "Dự đoán: BÚN BÒ\n"
          ]
        },
        {
          "output_type": "display_data",
          "data": {
            "text/plain": [
              "<Figure size 640x480 with 1 Axes>"
            ],
            "image/png": "[encoded data removed]"
          },
          "metadata": {}
        }
      ]
    },
    {
      "cell_type": "markdown",
      "source": [
        "# **faceshape**"
      ],
      "metadata": {
        "id": "kDxvtbQMeHVb"
      }
    },
    {
      "cell_type": "code",
      "source": [
        "from keras.utils import load_img, img_to_array\n",
        "import numpy as np\n",
        "import matplotlib.pyplot as plt\n",
        "from keras.models import Sequential\n",
        "from tensorflow.keras.preprocessing.image import ImageDataGenerator\n",
        "from keras.layers import Dense,Dropout"
      ],
      "metadata": {
        "id": "8Ce1zlFBM14a"
      },
      "execution_count": null,
      "outputs": []
    },
    {
      "cell_type": "code",
      "source": [
        "\n",
        "\n",
        "datagen = ImageDataGenerator(rescale=1.0/255)\n",
        "generator = datagen.flow_from_directory(\n",
        "    '/content/drive/MyDrive/faceshape',\n",
        "    target_size=(60, 60),\n",
        "    color_mode='rgb',\n",
        "    class_mode='categorical',\n",
        "    batch_size=32,\n",
        "    shuffle=True\n",
        ")\n",
        "test_generator = datagen.flow_from_directory(\n",
        "    '/content/drive/MyDrive/faceshape',\n",
        "    target_size=(60, 60),\n",
        "    color_mode='rgb',\n",
        "    class_mode='categorical',\n",
        "    batch_size=10000,\n",
        "    shuffle=False\n",
        ")\n",
        "class_labels = ['gia mỹ', 'iu', 'mtp', 'Quang', 'Thanh Vy']\n",
        "X_batch, y_batch = next(generator)\n",
        "test_generator = datagen.flow_from_directory(\n",
        "    '/content/drive/MyDrive/faceshape',\n",
        "    target_size=(60, 60),\n",
        "    color_mode='rgb',\n",
        "    class_mode='categorical',\n",
        "    batch_size=10000,\n",
        "    shuffle=False\n",
        ")\n",
        "x_train, y_train = next(generator)\n",
        "x_test, y_test = next(test_generator)\n",
        "x_train = x_train.reshape(x_train.shape[0], 60 * 60 * 3)\n",
        "x_test = x_test.reshape(x_test.shape[0], 60 * 60 * 3)\n",
        "print(\"Train shape:\", x_train.shape, y_train.shape)\n",
        "print(\"Test shape:\", x_test.shape, y_test.shape)\n"
      ],
      "metadata": {
        "colab": {
          "base_uri": "https://localhost:8080/"
        },
        "id": "VeenB_WfcfxW",
        "outputId": "27930dfb-2df0-4432-873a-74f621a54fc9"
      },
      "execution_count": null,
      "outputs": [
        {
          "output_type": "stream",
          "name": "stdout",
          "text": [
            "Found 14 images belonging to 5 classes.\n",
            "Found 14 images belonging to 5 classes.\n",
            "Found 14 images belonging to 5 classes.\n",
            "Train shape: (14, 10800) (14, 5)\n",
            "Test shape: (14, 10800) (14, 5)\n"
          ]
        }
      ]
    },
    {
      "cell_type": "code",
      "source": [
        "from tensorflow.keras.models import Sequential\n",
        "from tensorflow.keras.layers import Dense\n",
        "\n",
        "model = Sequential([\n",
        "    Dense(256, activation='relu', input_shape=(60*60*3,)),\n",
        "    Dense(128, activation='relu'),\n",
        "    Dense(generator.num_classes, activation='softmax')\n",
        "])\n"
      ],
      "metadata": {
        "id": "-5uooPxzcPhj"
      },
      "execution_count": null,
      "outputs": []
    },
    {
      "cell_type": "code",
      "source": [
        "model.compile(optimizer='adam', loss='categorical_crossentropy', metrics=['accuracy'])\n",
        "model.fit(x_train, y_train, epochs=150, batch_size=32, validation_data=(x_test, y_test))\n",
        "t_loss,test_acc=model.evaluate(x_test,y_test)\n",
        "print('test_acc:%.2f'%(test_acc*100))"
      ],
      "metadata": {
        "colab": {
          "base_uri": "https://localhost:8080/"
        },
        "id": "aTgXeW-aeU1U",
        "outputId": "88e60556-48e6-458e-d476-cd8ca6e8132f"
      },
      "execution_count": null,
      "outputs": [
        {
          "output_type": "stream",
          "name": "stdout",
          "text": [
            "Epoch 1/150\n",
            "\u001b[1m1/1\u001b[0m \u001b[32m━━━━━━━━━━━━━━━━━━━━\u001b[0m\u001b[37m\u001b[0m \u001b[1m2s\u001b[0m 2s/step - accuracy: 0.0000e+00 - loss: 2.2391 - val_accuracy: 0.3571 - val_loss: 2.0109\n",
            "Epoch 2/150\n",
            "\u001b[1m1/1\u001b[0m \u001b[32m━━━━━━━━━━━━━━━━━━━━\u001b[0m\u001b[37m\u001b[0m \u001b[1m0s\u001b[0m 372ms/step - accuracy: 0.3571 - loss: 2.0109 - val_accuracy: 0.5714 - val_loss: 7.0718\n",
            "Epoch 3/150\n",
            "\u001b[1m1/1\u001b[0m \u001b[32m━━━━━━━━━━━━━━━━━━━━\u001b[0m\u001b[37m\u001b[0m \u001b[1m0s\u001b[0m 152ms/step - accuracy: 0.5714 - loss: 7.0718 - val_accuracy: 0.5714 - val_loss: 4.6133\n",
            "Epoch 4/150\n",
            "\u001b[1m1/1\u001b[0m \u001b[32m━━━━━━━━━━━━━━━━━━━━\u001b[0m\u001b[37m\u001b[0m \u001b[1m0s\u001b[0m 146ms/step - accuracy: 0.5714 - loss: 4.6133 - val_accuracy: 0.8571 - val_loss: 0.4187\n",
            "Epoch 5/150\n",
            "\u001b[1m1/1\u001b[0m \u001b[32m━━━━━━━━━━━━━━━━━━━━\u001b[0m\u001b[37m\u001b[0m \u001b[1m0s\u001b[0m 150ms/step - accuracy: 0.8571 - loss: 0.4187 - val_accuracy: 0.4286 - val_loss: 4.9065\n",
            "Epoch 6/150\n",
            "\u001b[1m1/1\u001b[0m \u001b[32m━━━━━━━━━━━━━━━━━━━━\u001b[0m\u001b[37m\u001b[0m \u001b[1m0s\u001b[0m 180ms/step - accuracy: 0.4286 - loss: 4.9065 - val_accuracy: 0.1429 - val_loss: 5.5624\n",
            "Epoch 7/150\n",
            "\u001b[1m1/1\u001b[0m \u001b[32m━━━━━━━━━━━━━━━━━━━━\u001b[0m\u001b[37m\u001b[0m \u001b[1m0s\u001b[0m 324ms/step - accuracy: 0.1429 - loss: 5.5624 - val_accuracy: 0.9286 - val_loss: 0.3343\n",
            "Epoch 8/150\n",
            "\u001b[1m1/1\u001b[0m \u001b[32m━━━━━━━━━━━━━━━━━━━━\u001b[0m\u001b[37m\u001b[0m \u001b[1m0s\u001b[0m 384ms/step - accuracy: 0.9286 - loss: 0.3343 - val_accuracy: 0.7857 - val_loss: 0.9652\n",
            "Epoch 9/150\n",
            "\u001b[1m1/1\u001b[0m \u001b[32m━━━━━━━━━━━━━━━━━━━━\u001b[0m\u001b[37m\u001b[0m \u001b[1m0s\u001b[0m 444ms/step - accuracy: 0.7857 - loss: 0.9652 - val_accuracy: 0.7143 - val_loss: 1.4468\n",
            "Epoch 10/150\n",
            "\u001b[1m1/1\u001b[0m \u001b[32m━━━━━━━━━━━━━━━━━━━━\u001b[0m\u001b[37m\u001b[0m \u001b[1m0s\u001b[0m 158ms/step - accuracy: 0.7143 - loss: 1.4468 - val_accuracy: 0.9286 - val_loss: 1.3105\n",
            "Epoch 11/150\n",
            "\u001b[1m1/1\u001b[0m \u001b[32m━━━━━━━━━━━━━━━━━━━━\u001b[0m\u001b[37m\u001b[0m \u001b[1m0s\u001b[0m 156ms/step - accuracy: 0.9286 - loss: 1.3105 - val_accuracy: 0.9286 - val_loss: 1.4594\n",
            "Epoch 12/150\n",
            "\u001b[1m1/1\u001b[0m \u001b[32m━━━━━━━━━━━━━━━━━━━━\u001b[0m\u001b[37m\u001b[0m \u001b[1m0s\u001b[0m 145ms/step - accuracy: 0.9286 - loss: 1.4594 - val_accuracy: 0.7857 - val_loss: 1.6606\n",
            "Epoch 13/150\n",
            "\u001b[1m1/1\u001b[0m \u001b[32m━━━━━━━━━━━━━━━━━━━━\u001b[0m\u001b[37m\u001b[0m \u001b[1m0s\u001b[0m 141ms/step - accuracy: 0.7857 - loss: 1.6606 - val_accuracy: 0.9286 - val_loss: 1.4324\n",
            "Epoch 14/150\n",
            "\u001b[1m1/1\u001b[0m \u001b[32m━━━━━━━━━━━━━━━━━━━━\u001b[0m\u001b[37m\u001b[0m \u001b[1m0s\u001b[0m 146ms/step - accuracy: 0.9286 - loss: 1.4324 - val_accuracy: 0.9286 - val_loss: 1.4065\n",
            "Epoch 15/150\n",
            "\u001b[1m1/1\u001b[0m \u001b[32m━━━━━━━━━━━━━━━━━━━━\u001b[0m\u001b[37m\u001b[0m \u001b[1m0s\u001b[0m 156ms/step - accuracy: 0.9286 - loss: 1.4065 - val_accuracy: 0.8571 - val_loss: 1.3063\n",
            "Epoch 16/150\n",
            "\u001b[1m1/1\u001b[0m \u001b[32m━━━━━━━━━━━━━━━━━━━━\u001b[0m\u001b[37m\u001b[0m \u001b[1m0s\u001b[0m 298ms/step - accuracy: 0.8571 - loss: 1.3063 - val_accuracy: 0.9286 - val_loss: 1.0658\n",
            "Epoch 17/150\n",
            "\u001b[1m1/1\u001b[0m \u001b[32m━━━━━━━━━━━━━━━━━━━━\u001b[0m\u001b[37m\u001b[0m \u001b[1m0s\u001b[0m 155ms/step - accuracy: 0.9286 - loss: 1.0658 - val_accuracy: 0.9286 - val_loss: 0.7864\n",
            "Epoch 18/150\n",
            "\u001b[1m1/1\u001b[0m \u001b[32m━━━━━━━━━━━━━━━━━━━━\u001b[0m\u001b[37m\u001b[0m \u001b[1m0s\u001b[0m 166ms/step - accuracy: 0.9286 - loss: 0.7864 - val_accuracy: 0.9286 - val_loss: 0.4917\n",
            "Epoch 19/150\n",
            "\u001b[1m1/1\u001b[0m \u001b[32m━━━━━━━━━━━━━━━━━━━━\u001b[0m\u001b[37m\u001b[0m \u001b[1m0s\u001b[0m 156ms/step - accuracy: 0.9286 - loss: 0.4917 - val_accuracy: 0.9286 - val_loss: 0.1965\n",
            "Epoch 20/150\n",
            "\u001b[1m1/1\u001b[0m \u001b[32m━━━━━━━━━━━━━━━━━━━━\u001b[0m\u001b[37m\u001b[0m \u001b[1m0s\u001b[0m 298ms/step - accuracy: 0.9286 - loss: 0.1965 - val_accuracy: 1.0000 - val_loss: 0.0608\n",
            "Epoch 21/150\n",
            "\u001b[1m1/1\u001b[0m \u001b[32m━━━━━━━━━━━━━━━━━━━━\u001b[0m\u001b[37m\u001b[0m \u001b[1m0s\u001b[0m 174ms/step - accuracy: 1.0000 - loss: 0.0608 - val_accuracy: 1.0000 - val_loss: 0.0689\n",
            "Epoch 22/150\n",
            "\u001b[1m1/1\u001b[0m \u001b[32m━━━━━━━━━━━━━━━━━━━━\u001b[0m\u001b[37m\u001b[0m \u001b[1m0s\u001b[0m 307ms/step - accuracy: 1.0000 - loss: 0.0689 - val_accuracy: 0.9286 - val_loss: 0.1926\n",
            "Epoch 23/150\n",
            "\u001b[1m1/1\u001b[0m \u001b[32m━━━━━━━━━━━━━━━━━━━━\u001b[0m\u001b[37m\u001b[0m \u001b[1m0s\u001b[0m 264ms/step - accuracy: 0.9286 - loss: 0.1926 - val_accuracy: 0.8571 - val_loss: 0.3335\n",
            "Epoch 24/150\n",
            "\u001b[1m1/1\u001b[0m \u001b[32m━━━━━━━━━━━━━━━━━━━━\u001b[0m\u001b[37m\u001b[0m \u001b[1m0s\u001b[0m 176ms/step - accuracy: 0.8571 - loss: 0.3335 - val_accuracy: 0.9286 - val_loss: 0.1313\n",
            "Epoch 25/150\n",
            "\u001b[1m1/1\u001b[0m \u001b[32m━━━━━━━━━━━━━━━━━━━━\u001b[0m\u001b[37m\u001b[0m \u001b[1m0s\u001b[0m 139ms/step - accuracy: 0.9286 - loss: 0.1313 - val_accuracy: 1.0000 - val_loss: 0.0556\n",
            "Epoch 26/150\n",
            "\u001b[1m1/1\u001b[0m \u001b[32m━━━━━━━━━━━━━━━━━━━━\u001b[0m\u001b[37m\u001b[0m \u001b[1m0s\u001b[0m 383ms/step - accuracy: 1.0000 - loss: 0.0556 - val_accuracy: 0.9286 - val_loss: 0.0891\n",
            "Epoch 27/150\n",
            "\u001b[1m1/1\u001b[0m \u001b[32m━━━━━━━━━━━━━━━━━━━━\u001b[0m\u001b[37m\u001b[0m \u001b[1m0s\u001b[0m 223ms/step - accuracy: 0.9286 - loss: 0.0891 - val_accuracy: 1.0000 - val_loss: 0.0737\n",
            "Epoch 28/150\n",
            "\u001b[1m1/1\u001b[0m \u001b[32m━━━━━━━━━━━━━━━━━━━━\u001b[0m\u001b[37m\u001b[0m \u001b[1m0s\u001b[0m 220ms/step - accuracy: 1.0000 - loss: 0.0737 - val_accuracy: 1.0000 - val_loss: 0.0282\n",
            "Epoch 29/150\n",
            "\u001b[1m1/1\u001b[0m \u001b[32m━━━━━━━━━━━━━━━━━━━━\u001b[0m\u001b[37m\u001b[0m \u001b[1m0s\u001b[0m 210ms/step - accuracy: 1.0000 - loss: 0.0282 - val_accuracy: 1.0000 - val_loss: 0.0092\n",
            "Epoch 30/150\n",
            "\u001b[1m1/1\u001b[0m \u001b[32m━━━━━━━━━━━━━━━━━━━━\u001b[0m\u001b[37m\u001b[0m \u001b[1m0s\u001b[0m 278ms/step - accuracy: 1.0000 - loss: 0.0092 - val_accuracy: 1.0000 - val_loss: 0.0054\n",
            "Epoch 31/150\n",
            "\u001b[1m1/1\u001b[0m \u001b[32m━━━━━━━━━━━━━━━━━━━━\u001b[0m\u001b[37m\u001b[0m \u001b[1m0s\u001b[0m 235ms/step - accuracy: 1.0000 - loss: 0.0054 - val_accuracy: 1.0000 - val_loss: 0.0069\n",
            "Epoch 32/150\n",
            "\u001b[1m1/1\u001b[0m \u001b[32m━━━━━━━━━━━━━━━━━━━━\u001b[0m\u001b[37m\u001b[0m \u001b[1m0s\u001b[0m 234ms/step - accuracy: 1.0000 - loss: 0.0069 - val_accuracy: 1.0000 - val_loss: 0.0105\n",
            "Epoch 33/150\n",
            "\u001b[1m1/1\u001b[0m \u001b[32m━━━━━━━━━━━━━━━━━━━━\u001b[0m\u001b[37m\u001b[0m \u001b[1m0s\u001b[0m 376ms/step - accuracy: 1.0000 - loss: 0.0105 - val_accuracy: 1.0000 - val_loss: 0.0155\n",
            "Epoch 34/150\n",
            "\u001b[1m1/1\u001b[0m \u001b[32m━━━━━━━━━━━━━━━━━━━━\u001b[0m\u001b[37m\u001b[0m \u001b[1m0s\u001b[0m 224ms/step - accuracy: 1.0000 - loss: 0.0155 - val_accuracy: 1.0000 - val_loss: 0.0225\n",
            "Epoch 35/150\n",
            "\u001b[1m1/1\u001b[0m \u001b[32m━━━━━━━━━━━━━━━━━━━━\u001b[0m\u001b[37m\u001b[0m \u001b[1m0s\u001b[0m 296ms/step - accuracy: 1.0000 - loss: 0.0225 - val_accuracy: 1.0000 - val_loss: 0.0317\n",
            "Epoch 36/150\n",
            "\u001b[1m1/1\u001b[0m \u001b[32m━━━━━━━━━━━━━━━━━━━━\u001b[0m\u001b[37m\u001b[0m \u001b[1m0s\u001b[0m 295ms/step - accuracy: 1.0000 - loss: 0.0317 - val_accuracy: 1.0000 - val_loss: 0.0330\n",
            "Epoch 37/150\n",
            "\u001b[1m1/1\u001b[0m \u001b[32m━━━━━━━━━━━━━━━━━━━━\u001b[0m\u001b[37m\u001b[0m \u001b[1m0s\u001b[0m 268ms/step - accuracy: 1.0000 - loss: 0.0330 - val_accuracy: 1.0000 - val_loss: 0.0224\n",
            "Epoch 38/150\n",
            "\u001b[1m1/1\u001b[0m \u001b[32m━━━━━━━━━━━━━━━━━━━━\u001b[0m\u001b[37m\u001b[0m \u001b[1m0s\u001b[0m 263ms/step - accuracy: 1.0000 - loss: 0.0224 - val_accuracy: 1.0000 - val_loss: 0.0130\n",
            "Epoch 39/150\n",
            "\u001b[1m1/1\u001b[0m \u001b[32m━━━━━━━━━━━━━━━━━━━━\u001b[0m\u001b[37m\u001b[0m \u001b[1m0s\u001b[0m 267ms/step - accuracy: 1.0000 - loss: 0.0130 - val_accuracy: 1.0000 - val_loss: 0.0078\n",
            "Epoch 40/150\n",
            "\u001b[1m1/1\u001b[0m \u001b[32m━━━━━━━━━━━━━━━━━━━━\u001b[0m\u001b[37m\u001b[0m \u001b[1m0s\u001b[0m 297ms/step - accuracy: 1.0000 - loss: 0.0078 - val_accuracy: 1.0000 - val_loss: 0.0050\n",
            "Epoch 41/150\n",
            "\u001b[1m1/1\u001b[0m \u001b[32m━━━━━━━━━━━━━━━━━━━━\u001b[0m\u001b[37m\u001b[0m \u001b[1m0s\u001b[0m 167ms/step - accuracy: 1.0000 - loss: 0.0050 - val_accuracy: 1.0000 - val_loss: 0.0033\n",
            "Epoch 42/150\n",
            "\u001b[1m1/1\u001b[0m \u001b[32m━━━━━━━━━━━━━━━━━━━━\u001b[0m\u001b[37m\u001b[0m \u001b[1m0s\u001b[0m 161ms/step - accuracy: 1.0000 - loss: 0.0033 - val_accuracy: 1.0000 - val_loss: 0.0023\n",
            "Epoch 43/150\n",
            "\u001b[1m1/1\u001b[0m \u001b[32m━━━━━━━━━━━━━━━━━━━━\u001b[0m\u001b[37m\u001b[0m \u001b[1m0s\u001b[0m 162ms/step - accuracy: 1.0000 - loss: 0.0023 - val_accuracy: 1.0000 - val_loss: 0.0017\n",
            "Epoch 44/150\n",
            "\u001b[1m1/1\u001b[0m \u001b[32m━━━━━━━━━━━━━━━━━━━━\u001b[0m\u001b[37m\u001b[0m \u001b[1m0s\u001b[0m 290ms/step - accuracy: 1.0000 - loss: 0.0017 - val_accuracy: 1.0000 - val_loss: 0.0014\n",
            "Epoch 45/150\n",
            "\u001b[1m1/1\u001b[0m \u001b[32m━━━━━━━━━━━━━━━━━━━━\u001b[0m\u001b[37m\u001b[0m \u001b[1m0s\u001b[0m 323ms/step - accuracy: 1.0000 - loss: 0.0014 - val_accuracy: 1.0000 - val_loss: 0.0011\n",
            "Epoch 46/150\n",
            "\u001b[1m1/1\u001b[0m \u001b[32m━━━━━━━━━━━━━━━━━━━━\u001b[0m\u001b[37m\u001b[0m \u001b[1m0s\u001b[0m 270ms/step - accuracy: 1.0000 - loss: 0.0011 - val_accuracy: 1.0000 - val_loss: 0.0010\n",
            "Epoch 47/150\n",
            "\u001b[1m1/1\u001b[0m \u001b[32m━━━━━━━━━━━━━━━━━━━━\u001b[0m\u001b[37m\u001b[0m \u001b[1m0s\u001b[0m 297ms/step - accuracy: 1.0000 - loss: 0.0010 - val_accuracy: 1.0000 - val_loss: 9.7264e-04\n",
            "Epoch 48/150\n",
            "\u001b[1m1/1\u001b[0m \u001b[32m━━━━━━━━━━━━━━━━━━━━\u001b[0m\u001b[37m\u001b[0m \u001b[1m0s\u001b[0m 146ms/step - accuracy: 1.0000 - loss: 9.7264e-04 - val_accuracy: 1.0000 - val_loss: 9.6318e-04\n",
            "Epoch 49/150\n",
            "\u001b[1m1/1\u001b[0m \u001b[32m━━━━━━━━━━━━━━━━━━━━\u001b[0m\u001b[37m\u001b[0m \u001b[1m0s\u001b[0m 311ms/step - accuracy: 1.0000 - loss: 9.6318e-04 - val_accuracy: 1.0000 - val_loss: 9.7809e-04\n",
            "Epoch 50/150\n",
            "\u001b[1m1/1\u001b[0m \u001b[32m━━━━━━━━━━━━━━━━━━━━\u001b[0m\u001b[37m\u001b[0m \u001b[1m0s\u001b[0m 190ms/step - accuracy: 1.0000 - loss: 9.7809e-04 - val_accuracy: 1.0000 - val_loss: 0.0010\n",
            "Epoch 51/150\n",
            "\u001b[1m1/1\u001b[0m \u001b[32m━━━━━━━━━━━━━━━━━━━━\u001b[0m\u001b[37m\u001b[0m \u001b[1m0s\u001b[0m 155ms/step - accuracy: 1.0000 - loss: 0.0010 - val_accuracy: 1.0000 - val_loss: 0.0010\n",
            "Epoch 52/150\n",
            "\u001b[1m1/1\u001b[0m \u001b[32m━━━━━━━━━━━━━━━━━━━━\u001b[0m\u001b[37m\u001b[0m \u001b[1m0s\u001b[0m 173ms/step - accuracy: 1.0000 - loss: 0.0010 - val_accuracy: 1.0000 - val_loss: 0.0011\n",
            "Epoch 53/150\n",
            "\u001b[1m1/1\u001b[0m \u001b[32m━━━━━━━━━━━━━━━━━━━━\u001b[0m\u001b[37m\u001b[0m \u001b[1m0s\u001b[0m 269ms/step - accuracy: 1.0000 - loss: 0.0011 - val_accuracy: 1.0000 - val_loss: 0.0011\n",
            "Epoch 54/150\n",
            "\u001b[1m1/1\u001b[0m \u001b[32m━━━━━━━━━━━━━━━━━━━━\u001b[0m\u001b[37m\u001b[0m \u001b[1m0s\u001b[0m 290ms/step - accuracy: 1.0000 - loss: 0.0011 - val_accuracy: 1.0000 - val_loss: 0.0011\n",
            "Epoch 55/150\n",
            "\u001b[1m1/1\u001b[0m \u001b[32m━━━━━━━━━━━━━━━━━━━━\u001b[0m\u001b[37m\u001b[0m \u001b[1m0s\u001b[0m 146ms/step - accuracy: 1.0000 - loss: 0.0011 - val_accuracy: 1.0000 - val_loss: 0.0011\n",
            "Epoch 56/150\n",
            "\u001b[1m1/1\u001b[0m \u001b[32m━━━━━━━━━━━━━━━━━━━━\u001b[0m\u001b[37m\u001b[0m \u001b[1m0s\u001b[0m 184ms/step - accuracy: 1.0000 - loss: 0.0011 - val_accuracy: 1.0000 - val_loss: 0.0011\n",
            "Epoch 57/150\n",
            "\u001b[1m1/1\u001b[0m \u001b[32m━━━━━━━━━━━━━━━━━━━━\u001b[0m\u001b[37m\u001b[0m \u001b[1m0s\u001b[0m 266ms/step - accuracy: 1.0000 - loss: 0.0011 - val_accuracy: 1.0000 - val_loss: 0.0011\n",
            "Epoch 58/150\n",
            "\u001b[1m1/1\u001b[0m \u001b[32m━━━━━━━━━━━━━━━━━━━━\u001b[0m\u001b[37m\u001b[0m \u001b[1m0s\u001b[0m 143ms/step - accuracy: 1.0000 - loss: 0.0011 - val_accuracy: 1.0000 - val_loss: 0.0010\n",
            "Epoch 59/150\n",
            "\u001b[1m1/1\u001b[0m \u001b[32m━━━━━━━━━━━━━━━━━━━━\u001b[0m\u001b[37m\u001b[0m \u001b[1m0s\u001b[0m 289ms/step - accuracy: 1.0000 - loss: 0.0010 - val_accuracy: 1.0000 - val_loss: 9.8313e-04\n",
            "Epoch 60/150\n",
            "\u001b[1m1/1\u001b[0m \u001b[32m━━━━━━━━━━━━━━━━━━━━\u001b[0m\u001b[37m\u001b[0m \u001b[1m0s\u001b[0m 130ms/step - accuracy: 1.0000 - loss: 9.8313e-04 - val_accuracy: 1.0000 - val_loss: 9.3119e-04\n",
            "Epoch 61/150\n",
            "\u001b[1m1/1\u001b[0m \u001b[32m━━━━━━━━━━━━━━━━━━━━\u001b[0m\u001b[37m\u001b[0m \u001b[1m0s\u001b[0m 148ms/step - accuracy: 1.0000 - loss: 9.3119e-04 - val_accuracy: 1.0000 - val_loss: 8.7578e-04\n",
            "Epoch 62/150\n",
            "\u001b[1m1/1\u001b[0m \u001b[32m━━━━━━━━━━━━━━━━━━━━\u001b[0m\u001b[37m\u001b[0m \u001b[1m0s\u001b[0m 141ms/step - accuracy: 1.0000 - loss: 8.7578e-04 - val_accuracy: 1.0000 - val_loss: 8.1869e-04\n",
            "Epoch 63/150\n",
            "\u001b[1m1/1\u001b[0m \u001b[32m━━━━━━━━━━━━━━━━━━━━\u001b[0m\u001b[37m\u001b[0m \u001b[1m0s\u001b[0m 140ms/step - accuracy: 1.0000 - loss: 8.1869e-04 - val_accuracy: 1.0000 - val_loss: 7.6136e-04\n",
            "Epoch 64/150\n",
            "\u001b[1m1/1\u001b[0m \u001b[32m━━━━━━━━━━━━━━━━━━━━\u001b[0m\u001b[37m\u001b[0m \u001b[1m0s\u001b[0m 148ms/step - accuracy: 1.0000 - loss: 7.6136e-04 - val_accuracy: 1.0000 - val_loss: 7.0594e-04\n",
            "Epoch 65/150\n",
            "\u001b[1m1/1\u001b[0m \u001b[32m━━━━━━━━━━━━━━━━━━━━\u001b[0m\u001b[37m\u001b[0m \u001b[1m0s\u001b[0m 161ms/step - accuracy: 1.0000 - loss: 7.0594e-04 - val_accuracy: 1.0000 - val_loss: 6.5335e-04\n",
            "Epoch 66/150\n",
            "\u001b[1m1/1\u001b[0m \u001b[32m━━━━━━━━━━━━━━━━━━━━\u001b[0m\u001b[37m\u001b[0m \u001b[1m0s\u001b[0m 138ms/step - accuracy: 1.0000 - loss: 6.5335e-04 - val_accuracy: 1.0000 - val_loss: 6.0426e-04\n",
            "Epoch 67/150\n",
            "\u001b[1m1/1\u001b[0m \u001b[32m━━━━━━━━━━━━━━━━━━━━\u001b[0m\u001b[37m\u001b[0m \u001b[1m0s\u001b[0m 189ms/step - accuracy: 1.0000 - loss: 6.0426e-04 - val_accuracy: 1.0000 - val_loss: 5.5912e-04\n",
            "Epoch 68/150\n",
            "\u001b[1m1/1\u001b[0m \u001b[32m━━━━━━━━━━━━━━━━━━━━\u001b[0m\u001b[37m\u001b[0m \u001b[1m0s\u001b[0m 137ms/step - accuracy: 1.0000 - loss: 5.5912e-04 - val_accuracy: 1.0000 - val_loss: 5.1783e-04\n",
            "Epoch 69/150\n",
            "\u001b[1m1/1\u001b[0m \u001b[32m━━━━━━━━━━━━━━━━━━━━\u001b[0m\u001b[37m\u001b[0m \u001b[1m0s\u001b[0m 150ms/step - accuracy: 1.0000 - loss: 5.1783e-04 - val_accuracy: 1.0000 - val_loss: 4.8048e-04\n",
            "Epoch 70/150\n",
            "\u001b[1m1/1\u001b[0m \u001b[32m━━━━━━━━━━━━━━━━━━━━\u001b[0m\u001b[37m\u001b[0m \u001b[1m0s\u001b[0m 176ms/step - accuracy: 1.0000 - loss: 4.8048e-04 - val_accuracy: 1.0000 - val_loss: 4.4711e-04\n",
            "Epoch 71/150\n",
            "\u001b[1m1/1\u001b[0m \u001b[32m━━━━━━━━━━━━━━━━━━━━\u001b[0m\u001b[37m\u001b[0m \u001b[1m0s\u001b[0m 274ms/step - accuracy: 1.0000 - loss: 4.4711e-04 - val_accuracy: 1.0000 - val_loss: 4.1731e-04\n",
            "Epoch 72/150\n",
            "\u001b[1m1/1\u001b[0m \u001b[32m━━━━━━━━━━━━━━━━━━━━\u001b[0m\u001b[37m\u001b[0m \u001b[1m0s\u001b[0m 151ms/step - accuracy: 1.0000 - loss: 4.1731e-04 - val_accuracy: 1.0000 - val_loss: 3.9041e-04\n",
            "Epoch 73/150\n",
            "\u001b[1m1/1\u001b[0m \u001b[32m━━━━━━━━━━━━━━━━━━━━\u001b[0m\u001b[37m\u001b[0m \u001b[1m0s\u001b[0m 146ms/step - accuracy: 1.0000 - loss: 3.9041e-04 - val_accuracy: 1.0000 - val_loss: 3.6589e-04\n",
            "Epoch 74/150\n",
            "\u001b[1m1/1\u001b[0m \u001b[32m━━━━━━━━━━━━━━━━━━━━\u001b[0m\u001b[37m\u001b[0m \u001b[1m0s\u001b[0m 299ms/step - accuracy: 1.0000 - loss: 3.6589e-04 - val_accuracy: 1.0000 - val_loss: 3.4425e-04\n",
            "Epoch 75/150\n",
            "\u001b[1m1/1\u001b[0m \u001b[32m━━━━━━━━━━━━━━━━━━━━\u001b[0m\u001b[37m\u001b[0m \u001b[1m0s\u001b[0m 145ms/step - accuracy: 1.0000 - loss: 3.4425e-04 - val_accuracy: 1.0000 - val_loss: 3.2514e-04\n",
            "Epoch 76/150\n",
            "\u001b[1m1/1\u001b[0m \u001b[32m━━━━━━━━━━━━━━━━━━━━\u001b[0m\u001b[37m\u001b[0m \u001b[1m0s\u001b[0m 159ms/step - accuracy: 1.0000 - loss: 3.2514e-04 - val_accuracy: 1.0000 - val_loss: 3.0831e-04\n",
            "Epoch 77/150\n",
            "\u001b[1m1/1\u001b[0m \u001b[32m━━━━━━━━━━━━━━━━━━━━\u001b[0m\u001b[37m\u001b[0m \u001b[1m0s\u001b[0m 147ms/step - accuracy: 1.0000 - loss: 3.0831e-04 - val_accuracy: 1.0000 - val_loss: 2.9352e-04\n",
            "Epoch 78/150\n",
            "\u001b[1m1/1\u001b[0m \u001b[32m━━━━━━━━━━━━━━━━━━━━\u001b[0m\u001b[37m\u001b[0m \u001b[1m0s\u001b[0m 139ms/step - accuracy: 1.0000 - loss: 2.9352e-04 - val_accuracy: 1.0000 - val_loss: 2.8051e-04\n",
            "Epoch 79/150\n",
            "\u001b[1m1/1\u001b[0m \u001b[32m━━━━━━━━━━━━━━━━━━━━\u001b[0m\u001b[37m\u001b[0m \u001b[1m0s\u001b[0m 139ms/step - accuracy: 1.0000 - loss: 2.8051e-04 - val_accuracy: 1.0000 - val_loss: 2.6913e-04\n",
            "Epoch 80/150\n",
            "\u001b[1m1/1\u001b[0m \u001b[32m━━━━━━━━━━━━━━━━━━━━\u001b[0m\u001b[37m\u001b[0m \u001b[1m0s\u001b[0m 137ms/step - accuracy: 1.0000 - loss: 2.6913e-04 - val_accuracy: 1.0000 - val_loss: 2.5909e-04\n",
            "Epoch 81/150\n",
            "\u001b[1m1/1\u001b[0m \u001b[32m━━━━━━━━━━━━━━━━━━━━\u001b[0m\u001b[37m\u001b[0m \u001b[1m0s\u001b[0m 143ms/step - accuracy: 1.0000 - loss: 2.5909e-04 - val_accuracy: 1.0000 - val_loss: 2.5033e-04\n",
            "Epoch 82/150\n",
            "\u001b[1m1/1\u001b[0m \u001b[32m━━━━━━━━━━━━━━━━━━━━\u001b[0m\u001b[37m\u001b[0m \u001b[1m0s\u001b[0m 307ms/step - accuracy: 1.0000 - loss: 2.5033e-04 - val_accuracy: 1.0000 - val_loss: 2.4261e-04\n",
            "Epoch 83/150\n",
            "\u001b[1m1/1\u001b[0m \u001b[32m━━━━━━━━━━━━━━━━━━━━\u001b[0m\u001b[37m\u001b[0m \u001b[1m0s\u001b[0m 139ms/step - accuracy: 1.0000 - loss: 2.4261e-04 - val_accuracy: 1.0000 - val_loss: 2.3587e-04\n",
            "Epoch 84/150\n",
            "\u001b[1m1/1\u001b[0m \u001b[32m━━━━━━━━━━━━━━━━━━━━\u001b[0m\u001b[37m\u001b[0m \u001b[1m0s\u001b[0m 152ms/step - accuracy: 1.0000 - loss: 2.3587e-04 - val_accuracy: 1.0000 - val_loss: 2.2990e-04\n",
            "Epoch 85/150\n",
            "\u001b[1m1/1\u001b[0m \u001b[32m━━━━━━━━━━━━━━━━━━━━\u001b[0m\u001b[37m\u001b[0m \u001b[1m0s\u001b[0m 135ms/step - accuracy: 1.0000 - loss: 2.2990e-04 - val_accuracy: 1.0000 - val_loss: 2.2466e-04\n",
            "Epoch 86/150\n",
            "\u001b[1m1/1\u001b[0m \u001b[32m━━━━━━━━━━━━━━━━━━━━\u001b[0m\u001b[37m\u001b[0m \u001b[1m0s\u001b[0m 171ms/step - accuracy: 1.0000 - loss: 2.2466e-04 - val_accuracy: 1.0000 - val_loss: 2.2009e-04\n",
            "Epoch 87/150\n",
            "\u001b[1m1/1\u001b[0m \u001b[32m━━━━━━━━━━━━━━━━━━━━\u001b[0m\u001b[37m\u001b[0m \u001b[1m0s\u001b[0m 130ms/step - accuracy: 1.0000 - loss: 2.2009e-04 - val_accuracy: 1.0000 - val_loss: 2.1602e-04\n",
            "Epoch 88/150\n",
            "\u001b[1m1/1\u001b[0m \u001b[32m━━━━━━━━━━━━━━━━━━━━\u001b[0m\u001b[37m\u001b[0m \u001b[1m0s\u001b[0m 131ms/step - accuracy: 1.0000 - loss: 2.1602e-04 - val_accuracy: 1.0000 - val_loss: 2.1244e-04\n",
            "Epoch 89/150\n",
            "\u001b[1m1/1\u001b[0m \u001b[32m━━━━━━━━━━━━━━━━━━━━\u001b[0m\u001b[37m\u001b[0m \u001b[1m0s\u001b[0m 161ms/step - accuracy: 1.0000 - loss: 2.1244e-04 - val_accuracy: 1.0000 - val_loss: 2.0925e-04\n",
            "Epoch 90/150\n",
            "\u001b[1m1/1\u001b[0m \u001b[32m━━━━━━━━━━━━━━━━━━━━\u001b[0m\u001b[37m\u001b[0m \u001b[1m0s\u001b[0m 283ms/step - accuracy: 1.0000 - loss: 2.0925e-04 - val_accuracy: 1.0000 - val_loss: 2.0641e-04\n",
            "Epoch 91/150\n",
            "\u001b[1m1/1\u001b[0m \u001b[32m━━━━━━━━━━━━━━━━━━━━\u001b[0m\u001b[37m\u001b[0m \u001b[1m0s\u001b[0m 143ms/step - accuracy: 1.0000 - loss: 2.0641e-04 - val_accuracy: 1.0000 - val_loss: 2.0387e-04\n",
            "Epoch 92/150\n",
            "\u001b[1m1/1\u001b[0m \u001b[32m━━━━━━━━━━━━━━━━━━━━\u001b[0m\u001b[37m\u001b[0m \u001b[1m0s\u001b[0m 373ms/step - accuracy: 1.0000 - loss: 2.0387e-04 - val_accuracy: 1.0000 - val_loss: 2.0162e-04\n",
            "Epoch 93/150\n",
            "\u001b[1m1/1\u001b[0m \u001b[32m━━━━━━━━━━━━━━━━━━━━\u001b[0m\u001b[37m\u001b[0m \u001b[1m0s\u001b[0m 315ms/step - accuracy: 1.0000 - loss: 2.0162e-04 - val_accuracy: 1.0000 - val_loss: 1.9959e-04\n",
            "Epoch 94/150\n",
            "\u001b[1m1/1\u001b[0m \u001b[32m━━━━━━━━━━━━━━━━━━━━\u001b[0m\u001b[37m\u001b[0m \u001b[1m0s\u001b[0m 225ms/step - accuracy: 1.0000 - loss: 1.9959e-04 - val_accuracy: 1.0000 - val_loss: 1.9775e-04\n",
            "Epoch 95/150\n",
            "\u001b[1m1/1\u001b[0m \u001b[32m━━━━━━━━━━━━━━━━━━━━\u001b[0m\u001b[37m\u001b[0m \u001b[1m0s\u001b[0m 226ms/step - accuracy: 1.0000 - loss: 1.9775e-04 - val_accuracy: 1.0000 - val_loss: 1.9607e-04\n",
            "Epoch 96/150\n",
            "\u001b[1m1/1\u001b[0m \u001b[32m━━━━━━━━━━━━━━━━━━━━\u001b[0m\u001b[37m\u001b[0m \u001b[1m0s\u001b[0m 259ms/step - accuracy: 1.0000 - loss: 1.9607e-04 - val_accuracy: 1.0000 - val_loss: 1.9458e-04\n",
            "Epoch 97/150\n",
            "\u001b[1m1/1\u001b[0m \u001b[32m━━━━━━━━━━━━━━━━━━━━\u001b[0m\u001b[37m\u001b[0m \u001b[1m0s\u001b[0m 253ms/step - accuracy: 1.0000 - loss: 1.9458e-04 - val_accuracy: 1.0000 - val_loss: 1.9321e-04\n",
            "Epoch 98/150\n",
            "\u001b[1m1/1\u001b[0m \u001b[32m━━━━━━━━━━━━━━━━━━━━\u001b[0m\u001b[37m\u001b[0m \u001b[1m0s\u001b[0m 267ms/step - accuracy: 1.0000 - loss: 1.9321e-04 - val_accuracy: 1.0000 - val_loss: 1.9191e-04\n",
            "Epoch 99/150\n",
            "\u001b[1m1/1\u001b[0m \u001b[32m━━━━━━━━━━━━━━━━━━━━\u001b[0m\u001b[37m\u001b[0m \u001b[1m0s\u001b[0m 227ms/step - accuracy: 1.0000 - loss: 1.9191e-04 - val_accuracy: 1.0000 - val_loss: 1.9072e-04\n",
            "Epoch 100/150\n",
            "\u001b[1m1/1\u001b[0m \u001b[32m━━━━━━━━━━━━━━━━━━━━\u001b[0m\u001b[37m\u001b[0m \u001b[1m0s\u001b[0m 189ms/step - accuracy: 1.0000 - loss: 1.9072e-04 - val_accuracy: 1.0000 - val_loss: 1.8960e-04\n",
            "Epoch 101/150\n",
            "\u001b[1m1/1\u001b[0m \u001b[32m━━━━━━━━━━━━━━━━━━━━\u001b[0m\u001b[37m\u001b[0m \u001b[1m0s\u001b[0m 331ms/step - accuracy: 1.0000 - loss: 1.8960e-04 - val_accuracy: 1.0000 - val_loss: 1.8854e-04\n",
            "Epoch 102/150\n",
            "\u001b[1m1/1\u001b[0m \u001b[32m━━━━━━━━━━━━━━━━━━━━\u001b[0m\u001b[37m\u001b[0m \u001b[1m0s\u001b[0m 279ms/step - accuracy: 1.0000 - loss: 1.8854e-04 - val_accuracy: 1.0000 - val_loss: 1.8751e-04\n",
            "Epoch 103/150\n",
            "\u001b[1m1/1\u001b[0m \u001b[32m━━━━━━━━━━━━━━━━━━━━\u001b[0m\u001b[37m\u001b[0m \u001b[1m0s\u001b[0m 215ms/step - accuracy: 1.0000 - loss: 1.8751e-04 - val_accuracy: 1.0000 - val_loss: 1.8656e-04\n",
            "Epoch 104/150\n",
            "\u001b[1m1/1\u001b[0m \u001b[32m━━━━━━━━━━━━━━━━━━━━\u001b[0m\u001b[37m\u001b[0m \u001b[1m0s\u001b[0m 299ms/step - accuracy: 1.0000 - loss: 1.8656e-04 - val_accuracy: 1.0000 - val_loss: 1.8561e-04\n",
            "Epoch 105/150\n",
            "\u001b[1m1/1\u001b[0m \u001b[32m━━━━━━━━━━━━━━━━━━━━\u001b[0m\u001b[37m\u001b[0m \u001b[1m0s\u001b[0m 234ms/step - accuracy: 1.0000 - loss: 1.8561e-04 - val_accuracy: 1.0000 - val_loss: 1.8469e-04\n",
            "Epoch 106/150\n",
            "\u001b[1m1/1\u001b[0m \u001b[32m━━━━━━━━━━━━━━━━━━━━\u001b[0m\u001b[37m\u001b[0m \u001b[1m0s\u001b[0m 168ms/step - accuracy: 1.0000 - loss: 1.8469e-04 - val_accuracy: 1.0000 - val_loss: 1.8382e-04\n",
            "Epoch 107/150\n",
            "\u001b[1m1/1\u001b[0m \u001b[32m━━━━━━━━━━━━━━━━━━━━\u001b[0m\u001b[37m\u001b[0m \u001b[1m0s\u001b[0m 136ms/step - accuracy: 1.0000 - loss: 1.8382e-04 - val_accuracy: 1.0000 - val_loss: 1.8293e-04\n",
            "Epoch 108/150\n",
            "\u001b[1m1/1\u001b[0m \u001b[32m━━━━━━━━━━━━━━━━━━━━\u001b[0m\u001b[37m\u001b[0m \u001b[1m0s\u001b[0m 134ms/step - accuracy: 1.0000 - loss: 1.8293e-04 - val_accuracy: 1.0000 - val_loss: 1.8209e-04\n",
            "Epoch 109/150\n",
            "\u001b[1m1/1\u001b[0m \u001b[32m━━━━━━━━━━━━━━━━━━━━\u001b[0m\u001b[37m\u001b[0m \u001b[1m0s\u001b[0m 144ms/step - accuracy: 1.0000 - loss: 1.8209e-04 - val_accuracy: 1.0000 - val_loss: 1.8128e-04\n",
            "Epoch 110/150\n",
            "\u001b[1m1/1\u001b[0m \u001b[32m━━━━━━━━━━━━━━━━━━━━\u001b[0m\u001b[37m\u001b[0m \u001b[1m0s\u001b[0m 133ms/step - accuracy: 1.0000 - loss: 1.8128e-04 - val_accuracy: 1.0000 - val_loss: 1.8062e-04\n",
            "Epoch 111/150\n",
            "\u001b[1m1/1\u001b[0m \u001b[32m━━━━━━━━━━━━━━━━━━━━\u001b[0m\u001b[37m\u001b[0m \u001b[1m0s\u001b[0m 136ms/step - accuracy: 1.0000 - loss: 1.8062e-04 - val_accuracy: 1.0000 - val_loss: 1.7998e-04\n",
            "Epoch 112/150\n",
            "\u001b[1m1/1\u001b[0m \u001b[32m━━━━━━━━━━━━━━━━━━━━\u001b[0m\u001b[37m\u001b[0m \u001b[1m0s\u001b[0m 297ms/step - accuracy: 1.0000 - loss: 1.7998e-04 - val_accuracy: 1.0000 - val_loss: 1.7934e-04\n",
            "Epoch 113/150\n",
            "\u001b[1m1/1\u001b[0m \u001b[32m━━━━━━━━━━━━━━━━━━━━\u001b[0m\u001b[37m\u001b[0m \u001b[1m0s\u001b[0m 135ms/step - accuracy: 1.0000 - loss: 1.7934e-04 - val_accuracy: 1.0000 - val_loss: 1.7870e-04\n",
            "Epoch 114/150\n",
            "\u001b[1m1/1\u001b[0m \u001b[32m━━━━━━━━━━━━━━━━━━━━\u001b[0m\u001b[37m\u001b[0m \u001b[1m0s\u001b[0m 139ms/step - accuracy: 1.0000 - loss: 1.7870e-04 - val_accuracy: 1.0000 - val_loss: 1.7805e-04\n",
            "Epoch 115/150\n",
            "\u001b[1m1/1\u001b[0m \u001b[32m━━━━━━━━━━━━━━━━━━━━\u001b[0m\u001b[37m\u001b[0m \u001b[1m0s\u001b[0m 140ms/step - accuracy: 1.0000 - loss: 1.7805e-04 - val_accuracy: 1.0000 - val_loss: 1.7739e-04\n",
            "Epoch 116/150\n",
            "\u001b[1m1/1\u001b[0m \u001b[32m━━━━━━━━━━━━━━━━━━━━\u001b[0m\u001b[37m\u001b[0m \u001b[1m0s\u001b[0m 131ms/step - accuracy: 1.0000 - loss: 1.7739e-04 - val_accuracy: 1.0000 - val_loss: 1.7673e-04\n",
            "Epoch 117/150\n",
            "\u001b[1m1/1\u001b[0m \u001b[32m━━━━━━━━━━━━━━━━━━━━\u001b[0m\u001b[37m\u001b[0m \u001b[1m0s\u001b[0m 135ms/step - accuracy: 1.0000 - loss: 1.7673e-04 - val_accuracy: 1.0000 - val_loss: 1.7609e-04\n",
            "Epoch 118/150\n",
            "\u001b[1m1/1\u001b[0m \u001b[32m━━━━━━━━━━━━━━━━━━━━\u001b[0m\u001b[37m\u001b[0m \u001b[1m0s\u001b[0m 140ms/step - accuracy: 1.0000 - loss: 1.7609e-04 - val_accuracy: 1.0000 - val_loss: 1.7545e-04\n",
            "Epoch 119/150\n",
            "\u001b[1m1/1\u001b[0m \u001b[32m━━━━━━━━━━━━━━━━━━━━\u001b[0m\u001b[37m\u001b[0m \u001b[1m0s\u001b[0m 135ms/step - accuracy: 1.0000 - loss: 1.7545e-04 - val_accuracy: 1.0000 - val_loss: 1.7478e-04\n",
            "Epoch 120/150\n",
            "\u001b[1m1/1\u001b[0m \u001b[32m━━━━━━━━━━━━━━━━━━━━\u001b[0m\u001b[37m\u001b[0m \u001b[1m0s\u001b[0m 129ms/step - accuracy: 1.0000 - loss: 1.7478e-04 - val_accuracy: 1.0000 - val_loss: 1.7412e-04\n",
            "Epoch 121/150\n",
            "\u001b[1m1/1\u001b[0m \u001b[32m━━━━━━━━━━━━━━━━━━━━\u001b[0m\u001b[37m\u001b[0m \u001b[1m0s\u001b[0m 131ms/step - accuracy: 1.0000 - loss: 1.7412e-04 - val_accuracy: 1.0000 - val_loss: 1.7345e-04\n",
            "Epoch 122/150\n",
            "\u001b[1m1/1\u001b[0m \u001b[32m━━━━━━━━━━━━━━━━━━━━\u001b[0m\u001b[37m\u001b[0m \u001b[1m0s\u001b[0m 135ms/step - accuracy: 1.0000 - loss: 1.7345e-04 - val_accuracy: 1.0000 - val_loss: 1.7279e-04\n",
            "Epoch 123/150\n",
            "\u001b[1m1/1\u001b[0m \u001b[32m━━━━━━━━━━━━━━━━━━━━\u001b[0m\u001b[37m\u001b[0m \u001b[1m0s\u001b[0m 177ms/step - accuracy: 1.0000 - loss: 1.7279e-04 - val_accuracy: 1.0000 - val_loss: 1.7213e-04\n",
            "Epoch 124/150\n",
            "\u001b[1m1/1\u001b[0m \u001b[32m━━━━━━━━━━━━━━━━━━━━\u001b[0m\u001b[37m\u001b[0m \u001b[1m0s\u001b[0m 137ms/step - accuracy: 1.0000 - loss: 1.7213e-04 - val_accuracy: 1.0000 - val_loss: 1.7149e-04\n",
            "Epoch 125/150\n",
            "\u001b[1m1/1\u001b[0m \u001b[32m━━━━━━━━━━━━━━━━━━━━\u001b[0m\u001b[37m\u001b[0m \u001b[1m0s\u001b[0m 140ms/step - accuracy: 1.0000 - loss: 1.7149e-04 - val_accuracy: 1.0000 - val_loss: 1.7082e-04\n",
            "Epoch 126/150\n",
            "\u001b[1m1/1\u001b[0m \u001b[32m━━━━━━━━━━━━━━━━━━━━\u001b[0m\u001b[37m\u001b[0m \u001b[1m0s\u001b[0m 327ms/step - accuracy: 1.0000 - loss: 1.7082e-04 - val_accuracy: 1.0000 - val_loss: 1.7017e-04\n",
            "Epoch 127/150\n",
            "\u001b[1m1/1\u001b[0m \u001b[32m━━━━━━━━━━━━━━━━━━━━\u001b[0m\u001b[37m\u001b[0m \u001b[1m0s\u001b[0m 135ms/step - accuracy: 1.0000 - loss: 1.7017e-04 - val_accuracy: 1.0000 - val_loss: 1.6952e-04\n",
            "Epoch 128/150\n",
            "\u001b[1m1/1\u001b[0m \u001b[32m━━━━━━━━━━━━━━━━━━━━\u001b[0m\u001b[37m\u001b[0m \u001b[1m0s\u001b[0m 135ms/step - accuracy: 1.0000 - loss: 1.6952e-04 - val_accuracy: 1.0000 - val_loss: 1.6885e-04\n",
            "Epoch 129/150\n",
            "\u001b[1m1/1\u001b[0m \u001b[32m━━━━━━━━━━━━━━━━━━━━\u001b[0m\u001b[37m\u001b[0m \u001b[1m0s\u001b[0m 124ms/step - accuracy: 1.0000 - loss: 1.6885e-04 - val_accuracy: 1.0000 - val_loss: 1.6822e-04\n",
            "Epoch 130/150\n",
            "\u001b[1m1/1\u001b[0m \u001b[32m━━━━━━━━━━━━━━━━━━━━\u001b[0m\u001b[37m\u001b[0m \u001b[1m0s\u001b[0m 131ms/step - accuracy: 1.0000 - loss: 1.6822e-04 - val_accuracy: 1.0000 - val_loss: 1.6757e-04\n",
            "Epoch 131/150\n",
            "\u001b[1m1/1\u001b[0m \u001b[32m━━━━━━━━━━━━━━━━━━━━\u001b[0m\u001b[37m\u001b[0m \u001b[1m0s\u001b[0m 148ms/step - accuracy: 1.0000 - loss: 1.6757e-04 - val_accuracy: 1.0000 - val_loss: 1.6692e-04\n",
            "Epoch 132/150\n",
            "\u001b[1m1/1\u001b[0m \u001b[32m━━━━━━━━━━━━━━━━━━━━\u001b[0m\u001b[37m\u001b[0m \u001b[1m0s\u001b[0m 128ms/step - accuracy: 1.0000 - loss: 1.6692e-04 - val_accuracy: 1.0000 - val_loss: 1.6628e-04\n",
            "Epoch 133/150\n",
            "\u001b[1m1/1\u001b[0m \u001b[32m━━━━━━━━━━━━━━━━━━━━\u001b[0m\u001b[37m\u001b[0m \u001b[1m0s\u001b[0m 137ms/step - accuracy: 1.0000 - loss: 1.6628e-04 - val_accuracy: 1.0000 - val_loss: 1.6567e-04\n",
            "Epoch 134/150\n",
            "\u001b[1m1/1\u001b[0m \u001b[32m━━━━━━━━━━━━━━━━━━━━\u001b[0m\u001b[37m\u001b[0m \u001b[1m0s\u001b[0m 139ms/step - accuracy: 1.0000 - loss: 1.6567e-04 - val_accuracy: 1.0000 - val_loss: 1.6503e-04\n",
            "Epoch 135/150\n",
            "\u001b[1m1/1\u001b[0m \u001b[32m━━━━━━━━━━━━━━━━━━━━\u001b[0m\u001b[37m\u001b[0m \u001b[1m0s\u001b[0m 136ms/step - accuracy: 1.0000 - loss: 1.6503e-04 - val_accuracy: 1.0000 - val_loss: 1.6442e-04\n",
            "Epoch 136/150\n",
            "\u001b[1m1/1\u001b[0m \u001b[32m━━━━━━━━━━━━━━━━━━━━\u001b[0m\u001b[37m\u001b[0m \u001b[1m0s\u001b[0m 129ms/step - accuracy: 1.0000 - loss: 1.6442e-04 - val_accuracy: 1.0000 - val_loss: 1.6378e-04\n",
            "Epoch 137/150\n",
            "\u001b[1m1/1\u001b[0m \u001b[32m━━━━━━━━━━━━━━━━━━━━\u001b[0m\u001b[37m\u001b[0m \u001b[1m0s\u001b[0m 135ms/step - accuracy: 1.0000 - loss: 1.6378e-04 - val_accuracy: 1.0000 - val_loss: 1.6315e-04\n",
            "Epoch 138/150\n",
            "\u001b[1m1/1\u001b[0m \u001b[32m━━━━━━━━━━━━━━━━━━━━\u001b[0m\u001b[37m\u001b[0m \u001b[1m0s\u001b[0m 291ms/step - accuracy: 1.0000 - loss: 1.6315e-04 - val_accuracy: 1.0000 - val_loss: 1.6255e-04\n",
            "Epoch 139/150\n",
            "\u001b[1m1/1\u001b[0m \u001b[32m━━━━━━━━━━━━━━━━━━━━\u001b[0m\u001b[37m\u001b[0m \u001b[1m0s\u001b[0m 162ms/step - accuracy: 1.0000 - loss: 1.6255e-04 - val_accuracy: 1.0000 - val_loss: 1.6195e-04\n",
            "Epoch 140/150\n",
            "\u001b[1m1/1\u001b[0m \u001b[32m━━━━━━━━━━━━━━━━━━━━\u001b[0m\u001b[37m\u001b[0m \u001b[1m0s\u001b[0m 263ms/step - accuracy: 1.0000 - loss: 1.6195e-04 - val_accuracy: 1.0000 - val_loss: 1.6135e-04\n",
            "Epoch 141/150\n",
            "\u001b[1m1/1\u001b[0m \u001b[32m━━━━━━━━━━━━━━━━━━━━\u001b[0m\u001b[37m\u001b[0m \u001b[1m0s\u001b[0m 139ms/step - accuracy: 1.0000 - loss: 1.6135e-04 - val_accuracy: 1.0000 - val_loss: 1.6076e-04\n",
            "Epoch 142/150\n",
            "\u001b[1m1/1\u001b[0m \u001b[32m━━━━━━━━━━━━━━━━━━━━\u001b[0m\u001b[37m\u001b[0m \u001b[1m0s\u001b[0m 136ms/step - accuracy: 1.0000 - loss: 1.6076e-04 - val_accuracy: 1.0000 - val_loss: 1.6016e-04\n",
            "Epoch 143/150\n",
            "\u001b[1m1/1\u001b[0m \u001b[32m━━━━━━━━━━━━━━━━━━━━\u001b[0m\u001b[37m\u001b[0m \u001b[1m0s\u001b[0m 155ms/step - accuracy: 1.0000 - loss: 1.6016e-04 - val_accuracy: 1.0000 - val_loss: 1.5959e-04\n",
            "Epoch 144/150\n",
            "\u001b[1m1/1\u001b[0m \u001b[32m━━━━━━━━━━━━━━━━━━━━\u001b[0m\u001b[37m\u001b[0m \u001b[1m0s\u001b[0m 128ms/step - accuracy: 1.0000 - loss: 1.5959e-04 - val_accuracy: 1.0000 - val_loss: 1.5902e-04\n",
            "Epoch 145/150\n",
            "\u001b[1m1/1\u001b[0m \u001b[32m━━━━━━━━━━━━━━━━━━━━\u001b[0m\u001b[37m\u001b[0m \u001b[1m0s\u001b[0m 134ms/step - accuracy: 1.0000 - loss: 1.5902e-04 - val_accuracy: 1.0000 - val_loss: 1.5845e-04\n",
            "Epoch 146/150\n",
            "\u001b[1m1/1\u001b[0m \u001b[32m━━━━━━━━━━━━━━━━━━━━\u001b[0m\u001b[37m\u001b[0m \u001b[1m0s\u001b[0m 141ms/step - accuracy: 1.0000 - loss: 1.5845e-04 - val_accuracy: 1.0000 - val_loss: 1.5786e-04\n",
            "Epoch 147/150\n",
            "\u001b[1m1/1\u001b[0m \u001b[32m━━━━━━━━━━━━━━━━━━━━\u001b[0m\u001b[37m\u001b[0m \u001b[1m0s\u001b[0m 136ms/step - accuracy: 1.0000 - loss: 1.5786e-04 - val_accuracy: 1.0000 - val_loss: 1.5731e-04\n",
            "Epoch 148/150\n",
            "\u001b[1m1/1\u001b[0m \u001b[32m━━━━━━━━━━━━━━━━━━━━\u001b[0m\u001b[37m\u001b[0m \u001b[1m0s\u001b[0m 175ms/step - accuracy: 1.0000 - loss: 1.5731e-04 - val_accuracy: 1.0000 - val_loss: 1.5673e-04\n",
            "Epoch 149/150\n",
            "\u001b[1m1/1\u001b[0m \u001b[32m━━━━━━━━━━━━━━━━━━━━\u001b[0m\u001b[37m\u001b[0m \u001b[1m0s\u001b[0m 130ms/step - accuracy: 1.0000 - loss: 1.5673e-04 - val_accuracy: 1.0000 - val_loss: 1.5617e-04\n",
            "Epoch 150/150\n",
            "\u001b[1m1/1\u001b[0m \u001b[32m━━━━━━━━━━━━━━━━━━━━\u001b[0m\u001b[37m\u001b[0m \u001b[1m0s\u001b[0m 150ms/step - accuracy: 1.0000 - loss: 1.5617e-04 - val_accuracy: 1.0000 - val_loss: 1.5562e-04\n",
            "\u001b[1m1/1\u001b[0m \u001b[32m━━━━━━━━━━━━━━━━━━━━\u001b[0m\u001b[37m\u001b[0m \u001b[1m0s\u001b[0m 55ms/step - accuracy: 1.0000 - loss: 1.5562e-04\n",
            "test_acc:100.00\n"
          ]
        }
      ]
    },
    {
      "cell_type": "code",
      "source": [
        "img = load_img('/content/drive/MyDrive/faceshape/iu/tải xuống (1).jpg', target_size=(60, 60))\n",
        "plt.imshow(img)\n",
        "img = img_to_array(img)\n",
        "img_flatten = img.reshape(1, 60 * 60 * 3)\n",
        "img_flatten = img_flatten.astype('float32') / 255\n",
        "y_pred_prob = model.predict(img_flatten)\n",
        "predicted_class_index = int(np.argmax(y_pred_prob))\n",
        "class_labels = list(generator.class_indices.keys())\n",
        "print(\"TIEN DOAN\", class_labels[predicted_class_index])\n"
      ],
      "metadata": {
        "colab": {
          "base_uri": "https://localhost:8080/",
          "height": 504
        },
        "id": "VcWdDO9beeWW",
        "outputId": "81a48eed-e971-4dc8-e615-d1ed36d4bfdc"
      },
      "execution_count": null,
      "outputs": [
        {
          "output_type": "stream",
          "name": "stderr",
          "text": [
            "WARNING:tensorflow:5 out of the last 8 calls to <function TensorFlowTrainer.make_predict_function.<locals>.one_step_on_data_distributed at 0x7c065a0e9760> triggered tf.function retracing. Tracing is expensive and the excessive number of tracings could be due to (1) creating @tf.function repeatedly in a loop, (2) passing tensors with different shapes, (3) passing Python objects instead of tensors. For (1), please define your @tf.function outside of the loop. For (2), @tf.function has reduce_retracing=True option that can avoid unnecessary retracing. For (3), please refer to https://www.tensorflow.org/guide/function#controlling_retracing and https://www.tensorflow.org/api_docs/python/tf/function for  more details.\n"
          ]
        },
        {
          "output_type": "stream",
          "name": "stdout",
          "text": [
            "\u001b[1m1/1\u001b[0m \u001b[32m━━━━━━━━━━━━━━━━━━━━\u001b[0m\u001b[37m\u001b[0m \u001b[1m0s\u001b[0m 83ms/step\n",
            "TIEN DOAN mtp\n"
          ]
        },
        {
          "output_type": "display_data",
          "data": {
            "text/plain": [
              "<Figure size 640x480 with 1 Axes>"
            ],
            "image/png": "[encoded data removed]"
          },
          "metadata": {}
        }
      ]
    }
  ]
}